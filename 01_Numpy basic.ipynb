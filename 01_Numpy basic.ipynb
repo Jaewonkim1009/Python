{
 "cells": [
  {
   "cell_type": "code",
   "execution_count": 28,
   "id": "096c83d5-8899-46f4-adb5-cb3e985e7325",
   "metadata": {},
   "outputs": [
    {
     "name": "stdout",
     "output_type": "stream",
     "text": [
      "Requirement already satisfied: numpy in c:\\users\\402\\miniconda3\\envs\\myenv\\lib\\site-packages (2.2.2)\n"
     ]
    }
   ],
   "source": [
    "# !pip install numpy"
   ]
  },
  {
   "cell_type": "code",
   "execution_count": 29,
   "id": "a0f5501d-ce76-4836-ae81-0374a5f62af8",
   "metadata": {},
   "outputs": [
    {
     "name": "stdout",
     "output_type": "stream",
     "text": [
      "2.37 ms ± 102 μs per loop (mean ± std. dev. of 7 runs, 100 loops each)\n",
      "75.2 ms ± 832 μs per loop (mean ± std. dev. of 7 runs, 10 loops each)\n"
     ]
    }
   ],
   "source": [
    "import numpy as np\n",
    "my_arr = np.arange(1_000_000)\n",
    "my_list = list(range(1_000_000))\n",
    "%timeit my_arr2 = my_arr *2\n",
    "%timeit my_list2 = {x * 2 for x in my_list}"
   ]
  },
  {
   "cell_type": "code",
   "execution_count": 30,
   "id": "c0da312b-1e5e-405e-9769-addd3ee3e066",
   "metadata": {},
   "outputs": [
    {
     "data": {
      "text/plain": [
       "array([1., 4., 5., 8.])"
      ]
     },
     "execution_count": 30,
     "metadata": {},
     "output_type": "execute_result"
    }
   ],
   "source": [
    "test_array = np.array([1, 4, 5, 8], float)\n",
    "test_array"
   ]
  },
  {
   "cell_type": "code",
   "execution_count": 31,
   "id": "bca04a37-54c1-4ce2-b129-2a6226bfdcd0",
   "metadata": {},
   "outputs": [
    {
     "data": {
      "text/plain": [
       "numpy.float64"
      ]
     },
     "execution_count": 31,
     "metadata": {},
     "output_type": "execute_result"
    }
   ],
   "source": [
    "type(test_array[3])"
   ]
  },
  {
   "cell_type": "code",
   "execution_count": 32,
   "id": "c3d70ccf-291d-4f83-bc15-aefd0723c0c0",
   "metadata": {},
   "outputs": [
    {
     "data": {
      "text/plain": [
       "dtype('float64')"
      ]
     },
     "execution_count": 32,
     "metadata": {},
     "output_type": "execute_result"
    }
   ],
   "source": [
    "test_array.dtype # 데이터 타입"
   ]
  },
  {
   "cell_type": "code",
   "execution_count": 33,
   "id": "1bfb3c0a-50c0-4841-b306-0c3284ff0e5f",
   "metadata": {},
   "outputs": [
    {
     "data": {
      "text/plain": [
       "(4,)"
      ]
     },
     "execution_count": 33,
     "metadata": {},
     "output_type": "execute_result"
    }
   ],
   "source": [
    "# shape : array의 구조를 확인 할 수있음\n",
    "test_array.shape\n",
    "# 4열"
   ]
  },
  {
   "cell_type": "code",
   "execution_count": 34,
   "id": "d29f3489-47e0-4e79-9377-08a685ba32ed",
   "metadata": {},
   "outputs": [
    {
     "data": {
      "text/plain": [
       "(3, 4)"
      ]
     },
     "execution_count": 34,
     "metadata": {},
     "output_type": "execute_result"
    }
   ],
   "source": [
    "matrix = [[1, 2, 5, 8], [1, 2, 5, 8], [1, 2, 5, 8]] # 2차원은 [[]]로 실행\n",
    "np.array(matrix, int)\n",
    "\n",
    "np.array(matrix).shape #3행 4열의 구조라 (3,4) 출력"
   ]
  },
  {
   "cell_type": "code",
   "execution_count": 35,
   "id": "b2578238-1d11-47b5-9975-cc254fe6780c",
   "metadata": {},
   "outputs": [
    {
     "data": {
      "text/plain": [
       "(3, 3, 4)"
      ]
     },
     "execution_count": 35,
     "metadata": {},
     "output_type": "execute_result"
    }
   ],
   "source": [
    "tensor_rank3 = [[[1,2,5,8],[1,2,5,8],[1,2,5,8]], # 3차원 [[[ ]]]\n",
    "                [[1,2,5,8],[1,2,5,8],[1,2,5,8]],\n",
    "                [[1,2,5,8],[1,2,5,8],[1,2,5,8]]]\n",
    "np.array(tensor_rank3,int)\n",
    "np.array(tensor_rank3).shape #3면 3행 4열"
   ]
  },
  {
   "cell_type": "code",
   "execution_count": 36,
   "id": "b4cae944-0e84-4844-8dde-e210d88e0c0e",
   "metadata": {},
   "outputs": [
    {
     "data": {
      "text/plain": [
       "36"
      ]
     },
     "execution_count": 36,
     "metadata": {},
     "output_type": "execute_result"
    }
   ],
   "source": [
    "np.array(tensor_rank3,int).size # 원소의 갯수 4열 * 3행 * 3면 = 36"
   ]
  },
  {
   "cell_type": "code",
   "execution_count": 37,
   "id": "394bfafe-17c3-4995-be26-efcf2212eaf4",
   "metadata": {},
   "outputs": [
    {
     "data": {
      "text/plain": [
       "3"
      ]
     },
     "execution_count": 37,
     "metadata": {},
     "output_type": "execute_result"
    }
   ],
   "source": [
    "# ndim : axis(축)의 갯수를 알 수있음.\n",
    "np.array(tensor_rank3,int).ndim # 3차원이므로 3개의 축을 가지고 있음"
   ]
  },
  {
   "cell_type": "code",
   "execution_count": 38,
   "id": "70499db7-52b3-4310-8529-07540eddff3f",
   "metadata": {},
   "outputs": [
    {
     "data": {
      "text/plain": [
       "8"
      ]
     },
     "execution_count": 38,
     "metadata": {},
     "output_type": "execute_result"
    }
   ],
   "source": [
    "# itemsize : ndaaray의 각 요소의 데이터 크기를 나타냄\n",
    "np.array([[1,2,3.5],[4,5,6.5]], dtype = np.float64).itemsize # 64비트 = 8바이트"
   ]
  },
  {
   "cell_type": "code",
   "execution_count": 39,
   "id": "7465552c-24cb-4dc7-861d-a15a47cba1cc",
   "metadata": {},
   "outputs": [
    {
     "data": {
      "text/plain": [
       "4"
      ]
     },
     "execution_count": 39,
     "metadata": {},
     "output_type": "execute_result"
    }
   ],
   "source": [
    "np.array([[1,2,3.5],[4,5,6.5]], dtype = np.float32).itemsize # 32비트 = 4바이트"
   ]
  },
  {
   "cell_type": "code",
   "execution_count": 40,
   "id": "2020ba7c-ec07-4b37-8396-d7244c264a21",
   "metadata": {},
   "outputs": [
    {
     "data": {
      "text/plain": [
       "(2, 4)"
      ]
     },
     "execution_count": 40,
     "metadata": {},
     "output_type": "execute_result"
    }
   ],
   "source": [
    "# reshape : 배열의 구조 변경하고 랭크를 조절\n",
    "x = np.array([[1,2,3,8],[1,2,3,8]])\n",
    "x.shape # 2행 4열"
   ]
  },
  {
   "cell_type": "code",
   "execution_count": 41,
   "id": "f01c2276-7c07-43d6-8838-bb326c97e320",
   "metadata": {},
   "outputs": [
    {
     "data": {
      "text/plain": [
       "array([1, 2, 3, 8, 1, 2, 3, 8])"
      ]
     },
     "execution_count": 41,
     "metadata": {},
     "output_type": "execute_result"
    }
   ],
   "source": [
    "x.reshape(-1,) #2차원에서 -1로 1차원으로 변경됨 "
   ]
  },
  {
   "cell_type": "code",
   "execution_count": 42,
   "id": "29ea8954-7351-4d82-b3eb-2ba51ac9ebd3",
   "metadata": {},
   "outputs": [
    {
     "data": {
      "text/plain": [
       "array([[0, 1, 2, 3],\n",
       "       [4, 5, 6, 7]])"
      ]
     },
     "execution_count": 42,
     "metadata": {},
     "output_type": "execute_result"
    }
   ],
   "source": [
    "x = np.array(range(8))\n",
    "x.reshape(2,2,2) # 3차원으로 변경\n",
    "x.reshape(2,4) # 2차원으로 변경"
   ]
  },
  {
   "cell_type": "code",
   "execution_count": 43,
   "id": "febaa847-a3f4-418f-92fd-0d77fab01fe8",
   "metadata": {},
   "outputs": [
    {
     "data": {
      "text/plain": [
       "array([[0, 1, 2, 3],\n",
       "       [4, 5, 6, 7]])"
      ]
     },
     "execution_count": 43,
     "metadata": {},
     "output_type": "execute_result"
    }
   ],
   "source": [
    "x.reshape(2,-1) # 2차원 2행으로 열은 자동으로 변경"
   ]
  },
  {
   "cell_type": "code",
   "execution_count": 44,
   "id": "aa20ace7-c903-47b4-82ea-7195557e4674",
   "metadata": {},
   "outputs": [
    {
     "data": {
      "text/plain": [
       "array([[[0, 1],\n",
       "        [2, 3]],\n",
       "\n",
       "       [[4, 5],\n",
       "        [6, 7]]])"
      ]
     },
     "execution_count": 44,
     "metadata": {},
     "output_type": "execute_result"
    }
   ],
   "source": [
    "x.reshape(2,2,-1) # 3차원 2면 2행으로 열은 자동으로 변경"
   ]
  },
  {
   "cell_type": "code",
   "execution_count": 45,
   "id": "5e73f6d8-8ba4-4abc-9575-80ac079ca93e",
   "metadata": {},
   "outputs": [
    {
     "data": {
      "text/plain": [
       "array([ 0, 10, 20, 30, 40, 50, 60, 70])"
      ]
     },
     "execution_count": 45,
     "metadata": {},
     "output_type": "execute_result"
    }
   ],
   "source": [
    "# 넘파이 배열은 반복문을 사용하지 않고 연산을 수행할 수 있다.\n",
    "x * 10 "
   ]
  },
  {
   "cell_type": "code",
   "execution_count": 46,
   "id": "8d3f29ba-6837-4789-bbf2-513575d23079",
   "metadata": {},
   "outputs": [
    {
     "data": {
      "text/plain": [
       "array([ 0,  2,  4,  6,  8, 10, 12, 14])"
      ]
     },
     "execution_count": 46,
     "metadata": {},
     "output_type": "execute_result"
    }
   ],
   "source": [
    "x + x"
   ]
  },
  {
   "cell_type": "markdown",
   "id": "3a6a7698-27f3-40bb-b605-4c32cacb74f2",
   "metadata": {},
   "source": [
    "### 4.1.1(135p) ndarray 생성하기"
   ]
  },
  {
   "cell_type": "code",
   "execution_count": 47,
   "id": "ea256bc8-5eb1-4df1-b90f-7ba2fe0595c4",
   "metadata": {},
   "outputs": [
    {
     "name": "stdout",
     "output_type": "stream",
     "text": [
      "data1: range(5, 10)\n",
      "arr1: [5 6 7 8 9]\n"
     ]
    }
   ],
   "source": [
    "# range()로 생성한 리스트를 ndarray로 변환하기\n",
    "data1 = range(5,10)\n",
    "print(f'data1: {data1}')\n",
    "arr1 = np.array(list(data1))\n",
    "print(f'arr1: {arr1}')"
   ]
  },
  {
   "cell_type": "code",
   "execution_count": 48,
   "id": "6ce92909-a619-4d7d-b239-00cf4dd57cd6",
   "metadata": {},
   "outputs": [
    {
     "data": {
      "text/plain": [
       "array([[ 1,  2,  3,  4,  5],\n",
       "       [ 6,  7,  8,  9, 10]])"
      ]
     },
     "execution_count": 48,
     "metadata": {},
     "output_type": "execute_result"
    }
   ],
   "source": [
    "# 중첩된 리스트는 n차원의 배열로 변환 할 수 있다.\n",
    "data2 = [[1,2,3,4,5],[6,7,8,9,10]]\n",
    "arr2 = np.array(data2)\n",
    "arr2"
   ]
  },
  {
   "cell_type": "code",
   "execution_count": 49,
   "id": "f35a4b44-fac1-49ad-931d-13522f52eee3",
   "metadata": {},
   "outputs": [
    {
     "data": {
      "text/plain": [
       "2"
      ]
     },
     "execution_count": 49,
     "metadata": {},
     "output_type": "execute_result"
    }
   ],
   "source": [
    "# ndarray의 차원을 알아보자\n",
    "arr2.ndim"
   ]
  },
  {
   "cell_type": "code",
   "execution_count": 50,
   "id": "9eba475e-83cc-4717-85a5-e5523855945a",
   "metadata": {},
   "outputs": [
    {
     "data": {
      "text/plain": [
       "(2, 5)"
      ]
     },
     "execution_count": 50,
     "metadata": {},
     "output_type": "execute_result"
    }
   ],
   "source": [
    "# n차원 ndarray arr2의 구조는? \n",
    "arr2.shape"
   ]
  },
  {
   "cell_type": "code",
   "execution_count": 51,
   "id": "544d7969-a036-41a2-83fa-b9f1f4db186a",
   "metadata": {},
   "outputs": [
    {
     "data": {
      "text/plain": [
       "dtype('float64')"
      ]
     },
     "execution_count": 51,
     "metadata": {},
     "output_type": "execute_result"
    }
   ],
   "source": [
    "# zeros : dtype float64의 배열을 생성하고 배열의 내용을 0으로 채운다.\n",
    "np.zeros(10).dtype"
   ]
  },
  {
   "cell_type": "code",
   "execution_count": 52,
   "id": "6fc61d86-a528-4f95-b26e-fa1b1da444ec",
   "metadata": {},
   "outputs": [
    {
     "data": {
      "text/plain": [
       "array([[[0, 0, 0, 0, 0, 0],\n",
       "        [0, 0, 0, 0, 0, 0],\n",
       "        [0, 0, 0, 0, 0, 0]],\n",
       "\n",
       "       [[0, 0, 0, 0, 0, 0],\n",
       "        [0, 0, 0, 0, 0, 0],\n",
       "        [0, 0, 0, 0, 0, 0]]], dtype=int8)"
      ]
     },
     "execution_count": 52,
     "metadata": {},
     "output_type": "execute_result"
    }
   ],
   "source": [
    "# float64 = defalut값이므로 만약 다른 자료형으로 생성할 때에는 dtype을 명시한다.\n",
    "np.zeros((2,3,6), dtype = np.int8)"
   ]
  },
  {
   "cell_type": "code",
   "execution_count": 53,
   "id": "f58f6800-53d3-49fa-8af8-3742b93f4655",
   "metadata": {},
   "outputs": [
    {
     "data": {
      "text/plain": [
       "array([[[4.9e-324, 9.9e-324],\n",
       "        [2.5e-323, 4.0e-323],\n",
       "        [4.9e-324, 9.9e-324]],\n",
       "\n",
       "       [[2.5e-323, 4.0e-323],\n",
       "        [4.9e-324, 9.9e-324],\n",
       "        [2.5e-323, 4.0e-323]]])"
      ]
     },
     "execution_count": 53,
     "metadata": {},
     "output_type": "execute_result"
    }
   ],
   "source": [
    "# empty : 메모리값을 할당하며 초기값이 없는 배열을 생성\n",
    "np.empty((2,3,2))"
   ]
  },
  {
   "cell_type": "code",
   "execution_count": 54,
   "id": "583ececa-c0c8-4d13-b71b-26d1abf47023",
   "metadata": {},
   "outputs": [],
   "source": [
    "### 4.1.2 ndarray의 자료형 (138p)"
   ]
  },
  {
   "cell_type": "code",
   "execution_count": 55,
   "id": "b460fe6d-cb66-47a9-8077-4ebed8602eec",
   "metadata": {},
   "outputs": [
    {
     "data": {
      "text/plain": [
       "dtype('int32')"
      ]
     },
     "execution_count": 55,
     "metadata": {},
     "output_type": "execute_result"
    }
   ],
   "source": [
    "arr = np.array([1,2,3], dtype = 'int32')\n",
    "arr.dtype"
   ]
  },
  {
   "cell_type": "code",
   "execution_count": 56,
   "id": "aa7fedcf-69cd-4acf-af92-c2f7b782db49",
   "metadata": {},
   "outputs": [
    {
     "data": {
      "text/plain": [
       "dtype('float64')"
      ]
     },
     "execution_count": 56,
     "metadata": {},
     "output_type": "execute_result"
    }
   ],
   "source": [
    "# astype : 배열의 dtype을 다른 타입으로 명시하여 변환하여 반환\n",
    "float_arr = arr.astype(np.float64)\n",
    "float_arr.dtype"
   ]
  },
  {
   "cell_type": "code",
   "execution_count": 57,
   "id": "89575cf0-96b4-4924-a501-cd5f33ddf60e",
   "metadata": {},
   "outputs": [
    {
     "data": {
      "text/plain": [
       "array([1, 2, 3], dtype=int32)"
      ]
     },
     "execution_count": 57,
     "metadata": {},
     "output_type": "execute_result"
    }
   ],
   "source": [
    "# 기존 arr = int32 타입이라 반환값은 변함이 없다\n",
    "arr.astype(np.float64)\n",
    "arr"
   ]
  },
  {
   "cell_type": "code",
   "execution_count": 58,
   "id": "f3f17b46-43b4-489e-9535-503aed5ed278",
   "metadata": {},
   "outputs": [
    {
     "data": {
      "text/plain": [
       "array([1., 2., 3.])"
      ]
     },
     "execution_count": 58,
     "metadata": {},
     "output_type": "execute_result"
    }
   ],
   "source": [
    "# 새로 지정해 주어야 함\n",
    "arr2 = arr.astype(np.float64)\n",
    "arr2"
   ]
  },
  {
   "cell_type": "code",
   "execution_count": 59,
   "id": "bcf1c369-4eee-4fea-81a2-0937a2c682f6",
   "metadata": {},
   "outputs": [
    {
     "name": "stdout",
     "output_type": "stream",
     "text": [
      "[0 1 2 3 4 5 6 7 8 9]\n",
      "[0.22  0.34  0.456 0.56 ]\n",
      "[0. 1. 2. 3. 4. 5. 6. 7. 8. 9.]\n",
      "float64\n"
     ]
    }
   ],
   "source": [
    "int_array = np.arange(10)\n",
    "print(int_array)\n",
    "\n",
    "float_array = np.array([.22,.340,.456,.56])\n",
    "print(float_array)\n",
    "\n",
    "new_array = int_array.astype(float_array.dtype)\n",
    "print(new_array)\n",
    "print(new_array.dtype)"
   ]
  },
  {
   "cell_type": "code",
   "execution_count": 60,
   "id": "3b256034-61ed-45b5-9d47-4d8cbe39e9a1",
   "metadata": {},
   "outputs": [
    {
     "name": "stdout",
     "output_type": "stream",
     "text": [
      "[0 0 0 0 0 0 0 0]\n",
      "uint32\n"
     ]
    }
   ],
   "source": [
    "# dtype의 축약코드\n",
    "zeros_uint32 = np.zeros(8, dtype = 'u4')\n",
    "print(zeros_uint32)\n",
    "print(zeros_uint32.dtype)"
   ]
  },
  {
   "cell_type": "markdown",
   "id": "d64b217e-6ad6-486e-ace1-a23d4323a3fc",
   "metadata": {},
   "source": [
    "### 4.1.3 넘파이 배열의 산술연산(벡터화) (141p)\n",
    "- for문을 사용하지 않고 배열의 각 단위별로 연산을 수행"
   ]
  },
  {
   "cell_type": "code",
   "execution_count": 61,
   "id": "31e1c64c-a670-4ce8-a69b-fa32cafd8ab1",
   "metadata": {},
   "outputs": [
    {
     "data": {
      "text/plain": [
       "array([[1., 2., 3.],\n",
       "       [4., 5., 6.]])"
      ]
     },
     "execution_count": 61,
     "metadata": {},
     "output_type": "execute_result"
    }
   ],
   "source": [
    "arr = np.array([[1.,2.,3.],[4.,5.,6.]])\n",
    "arr"
   ]
  },
  {
   "cell_type": "code",
   "execution_count": 62,
   "id": "19ad6da4-4492-423f-bba0-526c1f9d5305",
   "metadata": {},
   "outputs": [
    {
     "name": "stdout",
     "output_type": "stream",
     "text": [
      "[[1. 2. 3.]\n",
      " [4. 5. 6.]]\n",
      "[[1.         0.5        0.33333333]\n",
      " [0.25       0.2        0.16666667]]\n",
      "[[ 1.  4.  9.]\n",
      " [16. 25. 36.]]\n"
     ]
    }
   ],
   "source": [
    "print(arr)\n",
    "print(1 / arr)\n",
    "print(arr ** 2)"
   ]
  },
  {
   "cell_type": "code",
   "execution_count": 63,
   "id": "f077fbd3-0bc3-4398-886d-ecd531379dc4",
   "metadata": {},
   "outputs": [
    {
     "data": {
      "text/plain": [
       "array([[ 2.,  4.,  6.],\n",
       "       [ 8., 10., 12.]])"
      ]
     },
     "execution_count": 63,
     "metadata": {},
     "output_type": "execute_result"
    }
   ],
   "source": [
    "arr2 = arr *2\n",
    "arr2"
   ]
  },
  {
   "cell_type": "code",
   "execution_count": 64,
   "id": "e25c101d-39f8-4a54-af27-97306d7c6380",
   "metadata": {},
   "outputs": [
    {
     "data": {
      "text/plain": [
       "array([[ True,  True,  True],\n",
       "       [ True,  True,  True]])"
      ]
     },
     "execution_count": 64,
     "metadata": {},
     "output_type": "execute_result"
    }
   ],
   "source": [
    "# 각 원소를 하나 씩 비교한다\n",
    "arr2 > arr"
   ]
  },
  {
   "cell_type": "markdown",
   "id": "e807ce49-fce2-4818-bb09-89e7b8a41baa",
   "metadata": {},
   "source": [
    "### 4.1.4 색인과 슬라이싱 기초 (142p)"
   ]
  },
  {
   "cell_type": "code",
   "execution_count": 65,
   "id": "87417dfa-2f6b-4ace-b035-7e2d16b455b3",
   "metadata": {},
   "outputs": [
    {
     "data": {
      "text/plain": [
       "array([0, 1, 2, 3, 4, 5, 6, 7, 8, 9])"
      ]
     },
     "execution_count": 65,
     "metadata": {},
     "output_type": "execute_result"
    }
   ],
   "source": [
    "arr = np.arange(10)\n",
    "arr"
   ]
  },
  {
   "cell_type": "code",
   "execution_count": 66,
   "id": "fce7f84e-ec7a-4109-a354-0abc277e3c54",
   "metadata": {},
   "outputs": [
    {
     "data": {
      "text/plain": [
       "np.int64(9)"
      ]
     },
     "execution_count": 66,
     "metadata": {},
     "output_type": "execute_result"
    }
   ],
   "source": [
    "arr[-1]"
   ]
  },
  {
   "cell_type": "code",
   "execution_count": 67,
   "id": "ea062bae-148c-4064-ba61-051b4704e2f8",
   "metadata": {},
   "outputs": [
    {
     "data": {
      "text/plain": [
       "array([2, 3, 4, 5])"
      ]
     },
     "execution_count": 67,
     "metadata": {},
     "output_type": "execute_result"
    }
   ],
   "source": [
    "arr[2:6]"
   ]
  },
  {
   "cell_type": "code",
   "execution_count": 68,
   "id": "fdcc3be8-c31a-4dd9-962a-3a20b326c56f",
   "metadata": {},
   "outputs": [
    {
     "data": {
      "text/plain": [
       "array([  0,   1, 100, 100, 100, 100,   6,   7,   8,   9])"
      ]
     },
     "execution_count": 68,
     "metadata": {},
     "output_type": "execute_result"
    }
   ],
   "source": [
    "# 브로드캐스팅 : 배열에 스칼라 값을 대입하면 선택 범위에 모두 적용 \n",
    "arr[2:6] = 100\n",
    "arr"
   ]
  },
  {
   "cell_type": "code",
   "execution_count": 69,
   "id": "c261110b-c090-4dfe-b112-4bdf269a91e6",
   "metadata": {},
   "outputs": [
    {
     "name": "stdout",
     "output_type": "stream",
     "text": [
      "[100 100 100 100]\n",
      "[200 100 100 100]\n"
     ]
    },
    {
     "data": {
      "text/plain": [
       "array([  0,   1, 200, 100, 100, 100,   6,   7,   8,   9])"
      ]
     },
     "execution_count": 69,
     "metadata": {},
     "output_type": "execute_result"
    }
   ],
   "source": [
    "# 배열의 슬라이스는 원래 배열의 뷰 (메모리 성능을 높이기 위해)\n",
    "# 뷰의 데이터를 변경하면 원래의 배열에도 적용 됨\n",
    "arr_slice = arr[2:6]\n",
    "print(arr_slice) # 100, 100, 100, 100\n",
    "arr_slice[0] = 200\n",
    "print(arr_slice) # 200, 100, 100, 100\n",
    "arr"
   ]
  },
  {
   "cell_type": "code",
   "execution_count": 70,
   "id": "70db1071-f6dd-45f8-8fca-00bccb96a5d8",
   "metadata": {},
   "outputs": [
    {
     "name": "stdout",
     "output_type": "stream",
     "text": [
      "[1234 1234 1234 1234]\n",
      "[   0    1 1234 1234 1234 1234    6    7    8    9]\n"
     ]
    }
   ],
   "source": [
    "arr_slice[:] = 1234\n",
    "print(arr_slice)\n",
    "print(arr)"
   ]
  },
  {
   "cell_type": "code",
   "execution_count": 71,
   "id": "2a0bfa57-5ea2-4341-996d-793521a6049b",
   "metadata": {},
   "outputs": [
    {
     "name": "stdout",
     "output_type": "stream",
     "text": [
      "[1234 1234 1234 1234]\n",
      "[1004 1004 1004 1004]\n",
      "[   0    1 1234 1234 1234 1234    6    7    8    9]\n"
     ]
    }
   ],
   "source": [
    "# 만약 슬라이스를 복제하려면 copy()를 사용하자.\n",
    "arr_copy = arr[2:6].copy()\n",
    "print(arr_copy)\n",
    "arr_copy[:] = 1004\n",
    "print(arr_copy)\n",
    "print(arr)"
   ]
  },
  {
   "cell_type": "code",
   "execution_count": 72,
   "id": "a45a0ec6-efe1-4bdd-9cc0-aa5da733f200",
   "metadata": {},
   "outputs": [
    {
     "data": {
      "text/plain": [
       "array([[[ 1,  2,  3],\n",
       "        [ 4,  5,  6]],\n",
       "\n",
       "       [[ 7,  8,  9],\n",
       "        [10, 11, 12]]])"
      ]
     },
     "execution_count": 72,
     "metadata": {},
     "output_type": "execute_result"
    }
   ],
   "source": [
    "# 3차원 배열의 슬라이싱\n",
    "arr3d = np.array([[[1,2,3],[4,5,6]],\n",
    "                  [[7,8,9],[10,11,12]]])\n",
    "arr3d"
   ]
  },
  {
   "cell_type": "code",
   "execution_count": 73,
   "id": "babba6b9-8105-4553-859e-5e91f5d5e07e",
   "metadata": {},
   "outputs": [
    {
     "data": {
      "text/plain": [
       "(2, 2, 3)"
      ]
     },
     "execution_count": 73,
     "metadata": {},
     "output_type": "execute_result"
    }
   ],
   "source": [
    "arr3d.shape"
   ]
  },
  {
   "cell_type": "code",
   "execution_count": 74,
   "id": "a57df1a2-cb08-42d8-b005-f0c8f790ff7e",
   "metadata": {},
   "outputs": [
    {
     "data": {
      "text/plain": [
       "array([[1, 2, 3],\n",
       "       [4, 5, 6]])"
      ]
     },
     "execution_count": 74,
     "metadata": {},
     "output_type": "execute_result"
    }
   ],
   "source": [
    "arr3d[0] #3차원 배열의 첫번째 면"
   ]
  },
  {
   "cell_type": "code",
   "execution_count": 75,
   "id": "72ecd3af-3fe6-45e1-86ec-5b4f1a22e90c",
   "metadata": {},
   "outputs": [
    {
     "name": "stdout",
     "output_type": "stream",
     "text": [
      "[7 8 9]\n"
     ]
    }
   ],
   "source": [
    "# 두번째 면의 첫번째 행을 출력해보자\n",
    "print(arr3d[1,0])"
   ]
  },
  {
   "cell_type": "code",
   "execution_count": 76,
   "id": "1f718cc7-e815-4791-8294-4cb32ea923ee",
   "metadata": {},
   "outputs": [
    {
     "name": "stdout",
     "output_type": "stream",
     "text": [
      "[[[ 1  2  3]\n",
      "  [ 4  5  6]]\n",
      "\n",
      " [[ 7  8  9]\n",
      "  [10 11 12]]]\n"
     ]
    },
    {
     "data": {
      "text/plain": [
       "array([[[50, 50, 50],\n",
       "        [50, 50, 50]],\n",
       "\n",
       "       [[ 7,  8,  9],\n",
       "        [10, 11, 12]]])"
      ]
     },
     "execution_count": 76,
     "metadata": {},
     "output_type": "execute_result"
    }
   ],
   "source": [
    "# 첫번째 면의 2차원 배열의 값을 50으로 변경 (원본은 보관한다)\n",
    "arr3d_copy = arr3d.copy()\n",
    "print(arr3d_copy)\n",
    "arr3d[0] = 50\n",
    "arr3d"
   ]
  },
  {
   "cell_type": "code",
   "execution_count": 78,
   "id": "693f4a9e-b174-4a2e-96b6-532f92863f44",
   "metadata": {},
   "outputs": [
    {
     "data": {
      "text/plain": [
       "array([[[ 1,  2,  3],\n",
       "        [ 4,  5,  6]],\n",
       "\n",
       "       [[ 7,  8,  9],\n",
       "        [10, 11, 12]]])"
      ]
     },
     "execution_count": 78,
     "metadata": {},
     "output_type": "execute_result"
    }
   ],
   "source": [
    "# 보관한 값을 이용하여 원래의 값으로 변경하기\n",
    "arr3d = arr3d_copy\n",
    "arr3d"
   ]
  },
  {
   "cell_type": "markdown",
   "id": "3ecbd483-1530-442a-aa00-e7eed1af65d9",
   "metadata": {},
   "source": [
    "### 슬라이스로 선택하기"
   ]
  },
  {
   "cell_type": "code",
   "execution_count": 80,
   "id": "2f0f339b-9634-454c-ae86-06f6056568aa",
   "metadata": {},
   "outputs": [
    {
     "data": {
      "text/plain": [
       "array([   0,    1, 1234, 1234, 1234, 1234,    6,    7,    8,    9])"
      ]
     },
     "execution_count": 80,
     "metadata": {},
     "output_type": "execute_result"
    }
   ],
   "source": [
    "arr"
   ]
  },
  {
   "cell_type": "code",
   "execution_count": 87,
   "id": "3c89249c-67f8-43a8-a580-8ba0e775fb36",
   "metadata": {},
   "outputs": [
    {
     "data": {
      "text/plain": [
       "array([[2, 3],\n",
       "       [5, 6]])"
      ]
     },
     "execution_count": 87,
     "metadata": {},
     "output_type": "execute_result"
    }
   ],
   "source": [
    "# 2차원 배열 생성\n",
    "arr2d = np.array([[1,2,3],[4,5,6],[7,8,9]])\n",
    "arr2d[:2, 1:3] # 0행부터 1행까지의 1,2열 가져오기"
   ]
  },
  {
   "cell_type": "code",
   "execution_count": 88,
   "id": "acaf102d-8172-4659-a90e-e4f6ae6c5657",
   "metadata": {},
   "outputs": [
    {
     "data": {
      "text/plain": [
       "array([1, 4, 7])"
      ]
     },
     "execution_count": 88,
     "metadata": {},
     "output_type": "execute_result"
    }
   ],
   "source": [
    "# 2차원 슬라이스 (0번축 : 행, 1번축 : 열)\n",
    "arr2d[:,0] # 모든 행의 0열 가져오기"
   ]
  },
  {
   "cell_type": "code",
   "execution_count": 91,
   "id": "8073fbe2-292b-48cd-b0d3-586ffac01b28",
   "metadata": {},
   "outputs": [
    {
     "data": {
      "text/plain": [
       "array([[4, 5, 6],\n",
       "       [7, 8, 9]])"
      ]
     },
     "execution_count": 91,
     "metadata": {},
     "output_type": "execute_result"
    }
   ],
   "source": [
    "# 1행부터 모든 열 추출\n",
    "arr2d[1:, :]"
   ]
  },
  {
   "cell_type": "code",
   "execution_count": 101,
   "id": "47f76c2a-d5b3-440f-b62e-1e041ba03321",
   "metadata": {},
   "outputs": [
    {
     "name": "stdout",
     "output_type": "stream",
     "text": [
      "[1 2 3 4 5 6 7 8 9]\n",
      "[[1 2 3]\n",
      " [4 5 6]\n",
      " [7 8 9]]\n"
     ]
    }
   ],
   "source": [
    "array1d = np.arange(1,10)\n",
    "array2d = array1d.reshape(3,3)\n",
    "print(array1d)\n",
    "print(array2d)"
   ]
  },
  {
   "cell_type": "code",
   "execution_count": 107,
   "id": "b6310532-ea93-41ef-a9e7-11e7c384d471",
   "metadata": {},
   "outputs": [
    {
     "data": {
      "text/plain": [
       "array([3, 6])"
      ]
     },
     "execution_count": 107,
     "metadata": {},
     "output_type": "execute_result"
    }
   ],
   "source": [
    "# 3과 6 출력하기\n",
    "array2d [:2, -1]"
   ]
  },
  {
   "cell_type": "code",
   "execution_count": 108,
   "id": "d23ca6b6-3ceb-4fd0-90ca-41c665de9e96",
   "metadata": {},
   "outputs": [
    {
     "data": {
      "text/plain": [
       "array([[1, 2],\n",
       "       [4, 5]])"
      ]
     },
     "execution_count": 108,
     "metadata": {},
     "output_type": "execute_result"
    }
   ],
   "source": [
    "# 1,2,4,5 출력하기\n",
    "arr2d [:2, :2]"
   ]
  },
  {
   "cell_type": "code",
   "execution_count": 111,
   "id": "204db7b5-633b-40bc-9d4d-42d520a793a4",
   "metadata": {},
   "outputs": [
    {
     "data": {
      "text/plain": [
       "array([[1, 2, 3],\n",
       "       [4, 5, 6]])"
      ]
     },
     "execution_count": 111,
     "metadata": {},
     "output_type": "execute_result"
    }
   ],
   "source": [
    "# 1,2,3,4,5,6 출력하기\n",
    "arr2d [:2, ]"
   ]
  },
  {
   "cell_type": "markdown",
   "id": "7fce0460-c8bf-42ee-91d3-12d4e3686fca",
   "metadata": {},
   "source": [
    "### 4.1.5 불리언 값으로 선택하기(149p)"
   ]
  },
  {
   "cell_type": "code",
   "execution_count": 120,
   "id": "0f53f1b1-0182-434f-b3e5-14876d3a929a",
   "metadata": {},
   "outputs": [],
   "source": [
    "names = np.array(['bob', 'joe', 'will', 'bob', 'will', 'joe', 'joe'])"
   ]
  },
  {
   "cell_type": "code",
   "execution_count": 115,
   "id": "2f459c59-9b2f-44c6-9c0c-e253a79e1513",
   "metadata": {},
   "outputs": [],
   "source": [
    "data = np.array([[4, 7], [0, 2], [-5, 6], [0, 0], [1, 2], [-12, -4], [3, 4]])"
   ]
  },
  {
   "cell_type": "code",
   "execution_count": 116,
   "id": "4bbb7c80-29e4-4b02-a34c-1cb5ad5a663c",
   "metadata": {},
   "outputs": [
    {
     "data": {
      "text/plain": [
       "array(['bob', 'joe', 'wiil', 'bob', 'will', 'joe', 'joe'], dtype='<U4')"
      ]
     },
     "execution_count": 116,
     "metadata": {},
     "output_type": "execute_result"
    }
   ],
   "source": [
    "names"
   ]
  },
  {
   "cell_type": "code",
   "execution_count": 117,
   "id": "9b2041e2-ebc9-4eca-801d-aad7d66fe469",
   "metadata": {},
   "outputs": [
    {
     "data": {
      "text/plain": [
       "array([[  4,   7],\n",
       "       [  0,   2],\n",
       "       [ -5,   6],\n",
       "       [  0,   0],\n",
       "       [  1,   2],\n",
       "       [-12,  -4],\n",
       "       [  3,   4]])"
      ]
     },
     "execution_count": 117,
     "metadata": {},
     "output_type": "execute_result"
    }
   ],
   "source": [
    "data"
   ]
  },
  {
   "cell_type": "code",
   "execution_count": 118,
   "id": "e509f0b9-5e73-4b7a-9c75-b440c6f7a328",
   "metadata": {},
   "outputs": [
    {
     "data": {
      "text/plain": [
       "array([ True, False, False,  True, False, False, False])"
      ]
     },
     "execution_count": 118,
     "metadata": {},
     "output_type": "execute_result"
    }
   ],
   "source": [
    "# bob이 위치한 곳을 True,False 로 나타냄\n",
    "names == 'bob'"
   ]
  },
  {
   "cell_type": "code",
   "execution_count": 121,
   "id": "1d890e95-a019-428a-a7e4-6eae4f4cd9d2",
   "metadata": {},
   "outputs": [
    {
     "data": {
      "text/plain": [
       "array([[-5,  6],\n",
       "       [ 1,  2]])"
      ]
     },
     "execution_count": 121,
     "metadata": {},
     "output_type": "execute_result"
    }
   ],
   "source": [
    "# will이 위치한 곳과 매칭하여 해당 data값 출력 \n",
    "data[names == 'will']"
   ]
  },
  {
   "cell_type": "code",
   "execution_count": 122,
   "id": "c9d74400-dd02-4403-989f-6d80f4315d75",
   "metadata": {},
   "outputs": [
    {
     "data": {
      "text/plain": [
       "array([1, 2, 3, 4, 5, 6, 7, 8, 9])"
      ]
     },
     "execution_count": 122,
     "metadata": {},
     "output_type": "execute_result"
    }
   ],
   "source": [
    "array1d"
   ]
  },
  {
   "cell_type": "code",
   "execution_count": 125,
   "id": "13a4fa96-07a7-4eda-94d8-f614c34ce743",
   "metadata": {},
   "outputs": [
    {
     "data": {
      "text/plain": [
       "array([6, 7, 8, 9])"
      ]
     },
     "execution_count": 125,
     "metadata": {},
     "output_type": "execute_result"
    }
   ],
   "source": [
    "array3 = array1d[array1d > 5]\n",
    "array3"
   ]
  },
  {
   "cell_type": "code",
   "execution_count": 127,
   "id": "b7d88f17-9aa9-4ebe-b876-95fdfe218417",
   "metadata": {},
   "outputs": [
    {
     "data": {
      "text/plain": [
       "array([False, False, False, False, False,  True,  True,  True,  True])"
      ]
     },
     "execution_count": 127,
     "metadata": {},
     "output_type": "execute_result"
    }
   ],
   "source": [
    "array1d > 5"
   ]
  },
  {
   "cell_type": "code",
   "execution_count": 129,
   "id": "cfb8731c-d28d-43ed-b501-3408d9ff313f",
   "metadata": {},
   "outputs": [
    {
     "data": {
      "text/plain": [
       "array([[ 2],\n",
       "       [-4],\n",
       "       [ 4]])"
      ]
     },
     "execution_count": 129,
     "metadata": {},
     "output_type": "execute_result"
    }
   ],
   "source": [
    "data[names == 'joe', 1:] # 2차원 출력"
   ]
  },
  {
   "cell_type": "code",
   "execution_count": 130,
   "id": "32cc2ef7-abd3-4d3e-8fdb-d9571d51ff23",
   "metadata": {},
   "outputs": [
    {
     "data": {
      "text/plain": [
       "array([ 2, -4,  4])"
      ]
     },
     "execution_count": 130,
     "metadata": {},
     "output_type": "execute_result"
    }
   ],
   "source": [
    "data[names == 'joe', 1] # 1차원 출력"
   ]
  },
  {
   "cell_type": "code",
   "execution_count": 131,
   "id": "ba449040-1bb9-4c32-89fc-bdf0142124d4",
   "metadata": {},
   "outputs": [
    {
     "data": {
      "text/plain": [
       "array([ True, False,  True,  True,  True, False, False])"
      ]
     },
     "execution_count": 131,
     "metadata": {},
     "output_type": "execute_result"
    }
   ],
   "source": [
    "names != 'joe' # 해당하지 않는 값을 출력"
   ]
  },
  {
   "cell_type": "code",
   "execution_count": 134,
   "id": "55d890d3-a759-4a6e-a543-291c196e7500",
   "metadata": {},
   "outputs": [
    {
     "data": {
      "text/plain": [
       "array([ True, False,  True,  True,  True, False, False])"
      ]
     },
     "execution_count": 134,
     "metadata": {},
     "output_type": "execute_result"
    }
   ],
   "source": [
    "~(names == 'joe') # ~는 != 와 같은 결과 출력"
   ]
  },
  {
   "cell_type": "code",
   "execution_count": 136,
   "id": "c2103f6c-473f-45f3-bf12-1ba6a688dd97",
   "metadata": {},
   "outputs": [
    {
     "data": {
      "text/plain": [
       "array([[ 4,  7],\n",
       "       [-5,  6],\n",
       "       [ 0,  0],\n",
       "       [ 1,  2]])"
      ]
     },
     "execution_count": 136,
     "metadata": {},
     "output_type": "execute_result"
    }
   ],
   "source": [
    "data[~(names == 'joe')] # data에서 joe와 매칭 후 해당 하지 않는 값의 내용 출력"
   ]
  },
  {
   "cell_type": "code",
   "execution_count": 138,
   "id": "d817d90c-21f2-4a9a-9522-16b60e1d6b89",
   "metadata": {},
   "outputs": [
    {
     "data": {
      "text/plain": [
       "array([False,  True, False, False, False,  True,  True])"
      ]
     },
     "execution_count": 138,
     "metadata": {},
     "output_type": "execute_result"
    }
   ],
   "source": [
    "cond = names == 'joe'\n",
    "cond"
   ]
  },
  {
   "cell_type": "code",
   "execution_count": 140,
   "id": "04adb468-502a-4e88-9af0-ebb87c36c608",
   "metadata": {},
   "outputs": [
    {
     "data": {
      "text/plain": [
       "array([[ 4,  7],\n",
       "       [-5,  6],\n",
       "       [ 0,  0],\n",
       "       [ 1,  2]])"
      ]
     },
     "execution_count": 140,
     "metadata": {},
     "output_type": "execute_result"
    }
   ],
   "source": [
    "data[~cond] # joe가 아닌 값을 출력"
   ]
  },
  {
   "cell_type": "code",
   "execution_count": 142,
   "id": "30302256-ee68-4028-a8f3-007b0e78e795",
   "metadata": {},
   "outputs": [
    {
     "data": {
      "text/plain": [
       "array([ True,  True, False,  True, False,  True,  True])"
      ]
     },
     "execution_count": 142,
     "metadata": {},
     "output_type": "execute_result"
    }
   ],
   "source": [
    "# | = or\n",
    "mask = (names == 'joe') | (names == 'bob') # joe거나 bob인 값을 출력\n",
    "mask"
   ]
  },
  {
   "cell_type": "code",
   "execution_count": 143,
   "id": "de8be6f0-a35c-4145-b03a-a2c79013785a",
   "metadata": {},
   "outputs": [
    {
     "data": {
      "text/plain": [
       "array([[  4,   7],\n",
       "       [  0,   2],\n",
       "       [  0,   0],\n",
       "       [-12,  -4],\n",
       "       [  3,   4]])"
      ]
     },
     "execution_count": 143,
     "metadata": {},
     "output_type": "execute_result"
    }
   ],
   "source": [
    "data[mask]"
   ]
  },
  {
   "cell_type": "code",
   "execution_count": 145,
   "id": "e5f1c307-0ef3-40b9-b4a3-c63c31275c53",
   "metadata": {},
   "outputs": [
    {
     "data": {
      "text/plain": [
       "array([[4, 7],\n",
       "       [0, 2],\n",
       "       [0, 6],\n",
       "       [0, 0],\n",
       "       [1, 2],\n",
       "       [0, 0],\n",
       "       [3, 4]])"
      ]
     },
     "execution_count": 145,
     "metadata": {},
     "output_type": "execute_result"
    }
   ],
   "source": [
    "data[data < 0 ] = 0 # 0보다 작은 값들을 0으로 변경\n",
    "data"
   ]
  },
  {
   "cell_type": "code",
   "execution_count": 147,
   "id": "e07f43ba-8e5d-4248-973b-10962fc8bd45",
   "metadata": {},
   "outputs": [
    {
     "data": {
      "text/plain": [
       "array([[7, 7],\n",
       "       [0, 2],\n",
       "       [7, 7],\n",
       "       [7, 7],\n",
       "       [7, 7],\n",
       "       [0, 0],\n",
       "       [3, 4]])"
      ]
     },
     "execution_count": 147,
     "metadata": {},
     "output_type": "execute_result"
    }
   ],
   "source": [
    "# joe가 아닌 데이터의 값을 7로 변경\n",
    "data[names != 'joe'] = 7\n",
    "data"
   ]
  },
  {
   "cell_type": "markdown",
   "id": "c3fa7119-66ea-40b4-bfbb-81d41f5bb7b5",
   "metadata": {},
   "source": [
    "### 4.1.6 팬시 색인 (152p)\n",
    "- 리스트나 ndarray로 인덱스 집합을 지정하면 해당 위치의 인덱스에 해당하는 ndarray를 반환"
   ]
  },
  {
   "cell_type": "code",
   "execution_count": 151,
   "id": "3559e18b-5579-4568-96a7-0a19cb29359f",
   "metadata": {},
   "outputs": [
    {
     "data": {
      "text/plain": [
       "array([[0., 0., 0., 0.],\n",
       "       [0., 0., 0., 0.],\n",
       "       [0., 0., 0., 0.],\n",
       "       [0., 0., 0., 0.],\n",
       "       [0., 0., 0., 0.],\n",
       "       [0., 0., 0., 0.],\n",
       "       [0., 0., 0., 0.],\n",
       "       [0., 0., 0., 0.]])"
      ]
     },
     "execution_count": 151,
     "metadata": {},
     "output_type": "execute_result"
    }
   ],
   "source": [
    "arr = np.zeros((8,4))\n",
    "arr"
   ]
  },
  {
   "cell_type": "code",
   "execution_count": 155,
   "id": "22899f41-811b-4113-a3d7-52ed24df34f1",
   "metadata": {},
   "outputs": [
    {
     "data": {
      "text/plain": [
       "array([[0., 0., 0., 0.],\n",
       "       [1., 1., 1., 1.],\n",
       "       [2., 2., 2., 2.],\n",
       "       [3., 3., 3., 3.],\n",
       "       [4., 4., 4., 4.],\n",
       "       [5., 5., 5., 5.],\n",
       "       [6., 6., 6., 6.],\n",
       "       [7., 7., 7., 7.]])"
      ]
     },
     "execution_count": 155,
     "metadata": {},
     "output_type": "execute_result"
    }
   ],
   "source": [
    "for i in range(8):\n",
    "    arr[i] = i # 모든열에 i 값 입력\n",
    "arr"
   ]
  },
  {
   "cell_type": "code",
   "execution_count": 158,
   "id": "5d21f5b3-1a0a-48b9-8f78-d6dd8ed79aaf",
   "metadata": {},
   "outputs": [
    {
     "data": {
      "text/plain": [
       "array([[4., 4., 4., 4.],\n",
       "       [3., 3., 3., 3.],\n",
       "       [0., 0., 0., 0.],\n",
       "       [6., 6., 6., 6.]])"
      ]
     },
     "execution_count": 158,
     "metadata": {},
     "output_type": "execute_result"
    }
   ],
   "source": [
    "arr[[4,3,0,6]] # 4,3,0,6이 있는 ndarray 반환"
   ]
  },
  {
   "cell_type": "code",
   "execution_count": 162,
   "id": "82f6fe42-65ba-4bce-b8c5-2ca5e3163334",
   "metadata": {},
   "outputs": [
    {
     "data": {
      "text/plain": [
       "array([6., 6., 6., 6.])"
      ]
     },
     "execution_count": 162,
     "metadata": {},
     "output_type": "execute_result"
    }
   ],
   "source": [
    "# 위 arr[[4,3,0,6]]을 따로 출력한 형식 \n",
    "arr[4]\n",
    "arr[3]\n",
    "arr[0]\n",
    "arr[6]"
   ]
  },
  {
   "cell_type": "code",
   "execution_count": 159,
   "id": "c41dce0b-5599-4c1d-af87-0040fe63c52a",
   "metadata": {},
   "outputs": [
    {
     "data": {
      "text/plain": [
       "array([[5., 5., 5., 5.],\n",
       "       [3., 3., 3., 3.],\n",
       "       [2., 2., 2., 2.]])"
      ]
     },
     "execution_count": 159,
     "metadata": {},
     "output_type": "execute_result"
    }
   ],
   "source": [
    "# 음수 입력시 arr이 가지고 있는 값에서 처리 후 출력 가능한 값을 출력\n",
    "arr[[-3, -5, -6]]"
   ]
  },
  {
   "cell_type": "code",
   "execution_count": 165,
   "id": "43ab8d28-7c80-4280-8301-cb4a3da64fff",
   "metadata": {},
   "outputs": [
    {
     "data": {
      "text/plain": [
       "array([[ 0,  1,  2,  3],\n",
       "       [ 4,  5,  6,  7],\n",
       "       [ 8,  9, 10, 11],\n",
       "       [12, 13, 14, 15],\n",
       "       [16, 17, 18, 19],\n",
       "       [20, 21, 22, 23],\n",
       "       [24, 25, 26, 27],\n",
       "       [28, 29, 30, 31]])"
      ]
     },
     "execution_count": 165,
     "metadata": {},
     "output_type": "execute_result"
    }
   ],
   "source": [
    "arr = np.arange(32).reshape(8,4)\n",
    "arr"
   ]
  },
  {
   "cell_type": "code",
   "execution_count": 187,
   "id": "766164c8-4117-4371-92a0-76d0d466cce2",
   "metadata": {},
   "outputs": [
    {
     "data": {
      "text/plain": [
       "array([ 4, 13, 22])"
      ]
     },
     "execution_count": 187,
     "metadata": {},
     "output_type": "execute_result"
    }
   ],
   "source": [
    "arr[[1,3,5],[0,1,2]] # 원하는 위치의 값을 출력 할 수 있다."
   ]
  },
  {
   "cell_type": "code",
   "execution_count": 192,
   "id": "43057334-b5be-4090-a195-345acf775aa7",
   "metadata": {},
   "outputs": [
    {
     "name": "stdout",
     "output_type": "stream",
     "text": [
      "[[ 0  1  2  3]\n",
      " [ 4  5  6  7]\n",
      " [ 8  9 10 11]\n",
      " [12 13 14 15]\n",
      " [16 17 18 19]\n",
      " [20 21 22 23]\n",
      " [24 25 26 27]\n",
      " [28 29 30 31]]\n",
      "[0 2]\n",
      "[1 2]\n",
      "[ 1 10]\n",
      "[[ 0  1  2  3]\n",
      " [ 8  9 10 11]]\n",
      "[[ 1  2]\n",
      " [ 5  6]\n",
      " [ 9 10]\n",
      " [13 14]\n",
      " [17 18]\n",
      " [21 22]\n",
      " [25 26]\n",
      " [29 30]]\n",
      "[1 9]\n",
      "[ 9 10]\n",
      "[[ 1  2  3]\n",
      " [ 9 10 11]]\n",
      "[[ 5  6]\n",
      " [ 9 10]\n",
      " [13 14]\n",
      " [17 18]\n",
      " [21 22]\n",
      " [25 26]\n",
      " [29 30]]\n"
     ]
    }
   ],
   "source": [
    "print(arr)\n",
    "row = np.array([0,2])\n",
    "print(row)\n",
    "col = np.array([1,2])\n",
    "print(col)\n",
    "print(arr[row,col]) # 0의 2번째와 1의 2번째 출력\n",
    "print(arr[row, :]) # 0과 2행의 모든 열 출력\n",
    "print(arr[: , col]) # 모든 행의 1열 2열 출력\n",
    "print(arr[row, 1]) # row 행(0,2)의 1열 출력\n",
    "print(arr[2, col]) # 2행의 col (1,2)열 출력\n",
    "print(arr[row, 1:]) # row 행(0,2)의 1열부터 출력\n",
    "print(arr[1:, col]) # 1행부터의 col (1,2)열 출력"
   ]
  },
  {
   "cell_type": "code",
   "execution_count": null,
   "id": "3316ed02-f1c4-4d1f-81a7-2d96debf949e",
   "metadata": {},
   "outputs": [],
   "source": [
    "# 팬시 인덱싱은 새로운 배열로 복사한다."
   ]
  },
  {
   "cell_type": "code",
   "execution_count": null,
   "id": "92ff8850-c398-4056-a0b3-65bcc017b2b0",
   "metadata": {},
   "outputs": [],
   "source": [
    "arr"
   ]
  },
  {
   "cell_type": "code",
   "execution_count": 197,
   "id": "25723123-51ff-47e1-9874-2fbaa474938b",
   "metadata": {},
   "outputs": [
    {
     "data": {
      "text/plain": [
       "array([[-1,  1,  2,  3],\n",
       "       [ 4,  5,  6,  7],\n",
       "       [ 8,  9, -1, 11],\n",
       "       [12, 13, 14, 15],\n",
       "       [16, 17, 18, 19],\n",
       "       [20, 21, 22, 23],\n",
       "       [24, 25, 26, 27],\n",
       "       [28, 29, 30, 31]])"
      ]
     },
     "execution_count": 197,
     "metadata": {},
     "output_type": "execute_result"
    }
   ],
   "source": [
    "arr[[0,2],[0,2]] = -1\n",
    "arr"
   ]
  },
  {
   "cell_type": "markdown",
   "id": "e81b07cc-d892-409c-b1a5-dde8de9438f9",
   "metadata": {},
   "source": [
    "### 4.17 배열 전치와 축 바꾸기(154p)"
   ]
  },
  {
   "cell_type": "code",
   "execution_count": 202,
   "id": "95e6d36f-6dd3-4bcf-8878-abc54a10ef99",
   "metadata": {},
   "outputs": [
    {
     "data": {
      "text/plain": [
       "array([[ 0,  1,  2,  3,  4],\n",
       "       [ 5,  6,  7,  8,  9],\n",
       "       [10, 11, 12, 13, 14]])"
      ]
     },
     "execution_count": 202,
     "metadata": {},
     "output_type": "execute_result"
    }
   ],
   "source": [
    "# 배열을 복사하지 않고 데이터에 적용한 뷰를 반환\n",
    "arr = np.arange(15).reshape((3,5))\n",
    "arr"
   ]
  },
  {
   "cell_type": "code",
   "execution_count": 203,
   "id": "920f76bd-c22e-4c0a-bd6b-58da4be7666b",
   "metadata": {},
   "outputs": [
    {
     "data": {
      "text/plain": [
       "array([[ 0,  5, 10],\n",
       "       [ 1,  6, 11],\n",
       "       [ 2,  7, 12],\n",
       "       [ 3,  8, 13],\n",
       "       [ 4,  9, 14]])"
      ]
     },
     "execution_count": 203,
     "metadata": {},
     "output_type": "execute_result"
    }
   ],
   "source": [
    "arr.T #행과 열이 변경 됨"
   ]
  },
  {
   "cell_type": "code",
   "execution_count": 247,
   "id": "63ab9869-f06b-4960-9910-6ed1a677f1fc",
   "metadata": {},
   "outputs": [
    {
     "data": {
      "text/plain": [
       "array([[ 0,  1,  0],\n",
       "       [ 1,  2, -2],\n",
       "       [ 6,  3,  2],\n",
       "       [-1,  0, -1],\n",
       "       [ 1,  0,  1]])"
      ]
     },
     "execution_count": 247,
     "metadata": {},
     "output_type": "execute_result"
    }
   ],
   "source": [
    "# 행열의 내적을 구하는 dot\n",
    "arr = np.array([[0, 1, 0],\n",
    "                [1, 2, -2],\n",
    "                [6, 3, 2],\n",
    "                [-1, 0, -1],\n",
    "                [1, 0, 1]])\n",
    "arr"
   ]
  },
  {
   "cell_type": "code",
   "execution_count": 248,
   "id": "f889c287-407c-43f2-867e-5d01ee34f081",
   "metadata": {},
   "outputs": [
    {
     "data": {
      "text/plain": [
       "array([[ 0,  1,  6, -1,  1],\n",
       "       [ 1,  2,  3,  0,  0],\n",
       "       [ 0, -2,  2, -1,  1]])"
      ]
     },
     "execution_count": 248,
     "metadata": {},
     "output_type": "execute_result"
    }
   ],
   "source": [
    "# 배열 전치\n",
    "arr.T"
   ]
  },
  {
   "cell_type": "code",
   "execution_count": 249,
   "id": "4fae872a-767f-424c-bc55-4494858689f7",
   "metadata": {},
   "outputs": [
    {
     "data": {
      "text/plain": [
       "array([[39, 20, 12],\n",
       "       [20, 14,  2],\n",
       "       [12,  2, 10]])"
      ]
     },
     "execution_count": 249,
     "metadata": {},
     "output_type": "execute_result"
    }
   ],
   "source": [
    "# 내적 구하기\n",
    "np.dot(arr.T, arr)"
   ]
  },
  {
   "cell_type": "code",
   "execution_count": 250,
   "id": "63d271b4-1323-4a15-993d-85b3226f0e23",
   "metadata": {},
   "outputs": [
    {
     "data": {
      "text/plain": [
       "array([[39, 20, 12],\n",
       "       [20, 14,  2],\n",
       "       [12,  2, 10]])"
      ]
     },
     "execution_count": 250,
     "metadata": {},
     "output_type": "execute_result"
    }
   ],
   "source": [
    "# @ 를 사용해서 행렬의 곱셈을 할 수 있다.\n",
    "arr.T @ arr"
   ]
  },
  {
   "cell_type": "code",
   "execution_count": 251,
   "id": "9cf30292-fb43-4e0e-aae2-88ecf5f3db81",
   "metadata": {},
   "outputs": [
    {
     "data": {
      "text/plain": [
       "array([[ 0,  1,  6, -1,  1],\n",
       "       [ 1,  2,  3,  0,  0],\n",
       "       [ 0, -2,  2, -1,  1]])"
      ]
     },
     "execution_count": 251,
     "metadata": {},
     "output_type": "execute_result"
    }
   ],
   "source": [
    "# 축 변경 swapaxes \n",
    "arr.swapaxes(0,1) # 0과 1의 축을 맞바꾼다"
   ]
  },
  {
   "cell_type": "code",
   "execution_count": 253,
   "id": "0c74ef91-642c-4c2f-9b1d-3c2ec7a74e38",
   "metadata": {},
   "outputs": [
    {
     "data": {
      "text/plain": [
       "array([[0, 1, 2],\n",
       "       [3, 4, 5]])"
      ]
     },
     "execution_count": 253,
     "metadata": {},
     "output_type": "execute_result"
    }
   ],
   "source": [
    "arr2 = np.arange(6).reshape(2,3)\n",
    "arr2 "
   ]
  },
  {
   "cell_type": "code",
   "execution_count": 255,
   "id": "33a74da7-bb5d-4b87-896e-77db13d3dbd2",
   "metadata": {},
   "outputs": [
    {
     "data": {
      "text/plain": [
       "array([[0, 3],\n",
       "       [1, 4],\n",
       "       [2, 5]])"
      ]
     },
     "execution_count": 255,
     "metadata": {},
     "output_type": "execute_result"
    }
   ],
   "source": [
    "arr2.T"
   ]
  },
  {
   "cell_type": "code",
   "execution_count": 257,
   "id": "0977143e-1d2b-4f11-a2ee-6b889f4da394",
   "metadata": {},
   "outputs": [
    {
     "data": {
      "text/plain": [
       "array([[ 5, 14],\n",
       "       [14, 50]])"
      ]
     },
     "execution_count": 257,
     "metadata": {},
     "output_type": "execute_result"
    }
   ],
   "source": [
    "arr2 @ arr2.T"
   ]
  },
  {
   "cell_type": "markdown",
   "id": "bf6c3e4c-806d-4c76-a15b-0ac5e1bf3c1f",
   "metadata": {},
   "source": [
    "### 4.2 난수 생성 (156p)\n",
    "- numpy.random"
   ]
  },
  {
   "cell_type": "code",
   "execution_count": 232,
   "id": "16ddace7-c33b-4f61-8f58-714934f4e04b",
   "metadata": {},
   "outputs": [
    {
     "data": {
      "text/plain": [
       "array([[-0.37657099,  0.38310973, -0.64489335,  0.38803769],\n",
       "       [ 0.3813523 ,  1.16496682,  0.62958975,  0.62055797],\n",
       "       [-0.71434694, -1.5394928 , -0.82827266, -1.3656366 ],\n",
       "       [-0.49598858,  0.20139663, -0.29300644, -1.72534446]])"
      ]
     },
     "execution_count": 232,
     "metadata": {},
     "output_type": "execute_result"
    }
   ],
   "source": [
    "sample = np.random.standard_normal(size=(4,4))\n",
    "sample"
   ]
  },
  {
   "cell_type": "code",
   "execution_count": 235,
   "id": "aa91ff07-23bf-43b4-b14b-e0bf69aa2ea2",
   "metadata": {},
   "outputs": [
    {
     "name": "stdout",
     "output_type": "stream",
     "text": [
      "760 ms ± 7.71 ms per loop (mean ± std. dev. of 7 runs, 1 loop each)\n"
     ]
    }
   ],
   "source": [
    "from random import normalvariate\n",
    "\n",
    "N = 1_000_000\n",
    "%timeit samples = [normalvariate(0, 1) for _ in range(N)]"
   ]
  },
  {
   "cell_type": "code",
   "execution_count": 236,
   "id": "f05dde40-6cf6-432c-9362-ef48c74c8980",
   "metadata": {},
   "outputs": [
    {
     "name": "stdout",
     "output_type": "stream",
     "text": [
      "24 ms ± 158 μs per loop (mean ± std. dev. of 7 runs, 10 loops each)\n"
     ]
    }
   ],
   "source": [
    "%timeit np.random.standard_normal(N)"
   ]
  },
  {
   "cell_type": "code",
   "execution_count": 259,
   "id": "e187a41e-0ee9-45fb-8969-6378951d2c7e",
   "metadata": {},
   "outputs": [],
   "source": [
    "rng = np.random.default_rng(seed=12345)\n",
    "data = rng.standard_normal((2,3))"
   ]
  },
  {
   "cell_type": "code",
   "execution_count": 262,
   "id": "1a2aaf89-d8ed-4f4e-a4bb-66e8623da689",
   "metadata": {},
   "outputs": [
    {
     "name": "stdout",
     "output_type": "stream",
     "text": [
      "<class 'numpy.random._generator.Generator'>\n",
      "[[-1.42382504  1.26372846 -0.87066174]\n",
      " [-0.25917323 -0.07534331 -0.74088465]]\n"
     ]
    }
   ],
   "source": [
    "print(type(rng))\n",
    "print(data)"
   ]
  },
  {
   "cell_type": "markdown",
   "id": "bcc94e4d-3270-4c2e-8a97-cc0d6dc9ad97",
   "metadata": {},
   "source": [
    "### 4.3 범용 함수"
   ]
  },
  {
   "cell_type": "code",
   "execution_count": 263,
   "id": "2bdb9924-8a2c-4eb0-8eff-76a7da866693",
   "metadata": {},
   "outputs": [
    {
     "data": {
      "text/plain": [
       "array([0, 1, 2, 3, 4, 5, 6, 7, 8, 9])"
      ]
     },
     "execution_count": 263,
     "metadata": {},
     "output_type": "execute_result"
    }
   ],
   "source": [
    "arr = np.arange(10)\n",
    "arr"
   ]
  },
  {
   "cell_type": "code",
   "execution_count": 264,
   "id": "197c97a9-07ad-4ea5-9af1-4c41396d3889",
   "metadata": {},
   "outputs": [
    {
     "data": {
      "text/plain": [
       "array([0.        , 1.        , 1.41421356, 1.73205081, 2.        ,\n",
       "       2.23606798, 2.44948974, 2.64575131, 2.82842712, 3.        ])"
      ]
     },
     "execution_count": 264,
     "metadata": {},
     "output_type": "execute_result"
    }
   ],
   "source": [
    "np.sqrt(arr) # 제곱근 arr ** 0.5"
   ]
  },
  {
   "cell_type": "code",
   "execution_count": 265,
   "id": "a28ed4a1-0376-4cbb-9b0a-d23cd16466e5",
   "metadata": {},
   "outputs": [
    {
     "data": {
      "text/plain": [
       "array([1.00000000e+00, 2.71828183e+00, 7.38905610e+00, 2.00855369e+01,\n",
       "       5.45981500e+01, 1.48413159e+02, 4.03428793e+02, 1.09663316e+03,\n",
       "       2.98095799e+03, 8.10308393e+03])"
      ]
     },
     "execution_count": 265,
     "metadata": {},
     "output_type": "execute_result"
    }
   ],
   "source": [
    "np.exp(arr) # 지수 ex를 계산"
   ]
  },
  {
   "cell_type": "code",
   "execution_count": 267,
   "id": "17d8eaca-b90d-4ae0-a362-026cfb9d32f8",
   "metadata": {},
   "outputs": [
    {
     "name": "stdout",
     "output_type": "stream",
     "text": [
      "[ 0.90291934 -1.62158273 -0.15818926  0.44948393 -1.34360107 -0.08168759\n",
      "  1.72473993  2.61815943]\n",
      "[ 0.77736134  0.8286332  -0.95898831 -1.20938829 -1.41229201  0.54154683\n",
      "  0.7519394  -0.65876032]\n"
     ]
    }
   ],
   "source": [
    "x = rng.standard_normal(8)\n",
    "y = rng.standard_normal(8)\n",
    "print(x)\n",
    "print(y)"
   ]
  },
  {
   "cell_type": "code",
   "execution_count": 269,
   "id": "bb85fc6c-4147-412c-86fc-a66c88e47ea4",
   "metadata": {},
   "outputs": [
    {
     "data": {
      "text/plain": [
       "array([ 0.90291934,  0.8286332 , -0.15818926,  0.44948393, -1.34360107,\n",
       "        0.54154683,  1.72473993,  2.61815943])"
      ]
     },
     "execution_count": 269,
     "metadata": {},
     "output_type": "execute_result"
    }
   ],
   "source": [
    "np.maximum(x, y)"
   ]
  },
  {
   "cell_type": "code",
   "execution_count": 270,
   "id": "756d6653-bbf3-4063-920f-1aa73ebe1982",
   "metadata": {},
   "outputs": [
    {
     "data": {
      "text/plain": [
       "array([-6.14337493,  1.28778884,  1.56451459, -0.65405845,  6.3499156 ,\n",
       "       -0.46481229, -0.33075445])"
      ]
     },
     "execution_count": 270,
     "metadata": {},
     "output_type": "execute_result"
    }
   ],
   "source": [
    "arr = rng.standard_normal(7) * 5\n",
    "arr"
   ]
  },
  {
   "cell_type": "code",
   "execution_count": 274,
   "id": "ec7e24b4-c929-433d-8354-ee06eaca3e98",
   "metadata": {},
   "outputs": [
    {
     "name": "stdout",
     "output_type": "stream",
     "text": [
      "[-6.  1.  1. -0.  6. -0. -0.]\n",
      "[-0.14337493  0.28778884  0.56451459 -0.65405845  0.3499156  -0.46481229\n",
      " -0.33075445]\n"
     ]
    }
   ],
   "source": [
    "remain , share = np.modf(arr) # 몫과 나머지 출력\n",
    "print(share) # 몫\n",
    "print(remain) # 나머지"
   ]
  },
  {
   "cell_type": "markdown",
   "id": "253c5442-73dc-44d3-a63d-25d88f27c95e",
   "metadata": {},
   "source": [
    "### 4.4 배열을 이용한 배열 기반 프로그램 (162p)"
   ]
  },
  {
   "cell_type": "code",
   "execution_count": 277,
   "id": "333b6567-40f4-4d07-bb56-26cedd5eae5b",
   "metadata": {},
   "outputs": [],
   "source": [
    "points = np.arange(-5, 5, 0.01) # -5부터 4.99까지 0.01씩 증가하는 값의 배열"
   ]
  },
  {
   "cell_type": "code",
   "execution_count": 283,
   "id": "8cc30b42-0152-4ee8-bd70-cf424ee6a61f",
   "metadata": {},
   "outputs": [],
   "source": [
    "xs , ys = np.meshgrid(points, points)"
   ]
  },
  {
   "cell_type": "code",
   "execution_count": 285,
   "id": "3a7d6940-2bed-4cb9-98e3-8eee9f01bdb5",
   "metadata": {},
   "outputs": [
    {
     "data": {
      "text/plain": [
       "array([[-5.  , -5.  , -5.  , ..., -5.  , -5.  , -5.  ],\n",
       "       [-4.99, -4.99, -4.99, ..., -4.99, -4.99, -4.99],\n",
       "       [-4.98, -4.98, -4.98, ..., -4.98, -4.98, -4.98],\n",
       "       ...,\n",
       "       [ 4.97,  4.97,  4.97, ...,  4.97,  4.97,  4.97],\n",
       "       [ 4.98,  4.98,  4.98, ...,  4.98,  4.98,  4.98],\n",
       "       [ 4.99,  4.99,  4.99, ...,  4.99,  4.99,  4.99]],\n",
       "      shape=(1000, 1000))"
      ]
     },
     "execution_count": 285,
     "metadata": {},
     "output_type": "execute_result"
    }
   ],
   "source": [
    "ys"
   ]
  },
  {
   "cell_type": "code",
   "execution_count": 287,
   "id": "8fa2fc7a-a781-4edc-a0dd-9930ec1dc7ee",
   "metadata": {},
   "outputs": [],
   "source": [
    "z = np.sqrt(xs ** 2 + ys ** 2)"
   ]
  },
  {
   "cell_type": "code",
   "execution_count": 288,
   "id": "84475711-7c7c-410b-a944-a0af653d683d",
   "metadata": {},
   "outputs": [
    {
     "data": {
      "text/plain": [
       "array([[7.07106781, 7.06400028, 7.05693985, ..., 7.04988652, 7.05693985,\n",
       "        7.06400028],\n",
       "       [7.06400028, 7.05692568, 7.04985815, ..., 7.04279774, 7.04985815,\n",
       "        7.05692568],\n",
       "       [7.05693985, 7.04985815, 7.04278354, ..., 7.03571603, 7.04278354,\n",
       "        7.04985815],\n",
       "       ...,\n",
       "       [7.04988652, 7.04279774, 7.03571603, ..., 7.0286414 , 7.03571603,\n",
       "        7.04279774],\n",
       "       [7.05693985, 7.04985815, 7.04278354, ..., 7.03571603, 7.04278354,\n",
       "        7.04985815],\n",
       "       [7.06400028, 7.05692568, 7.04985815, ..., 7.04279774, 7.04985815,\n",
       "        7.05692568]], shape=(1000, 1000))"
      ]
     },
     "execution_count": 288,
     "metadata": {},
     "output_type": "execute_result"
    }
   ],
   "source": [
    "z"
   ]
  },
  {
   "cell_type": "code",
   "execution_count": 291,
   "id": "4fc8c8e6-3ad8-4b6c-8b76-897e916d3216",
   "metadata": {},
   "outputs": [],
   "source": [
    " #!pip install matplotlib"
   ]
  },
  {
   "cell_type": "code",
   "execution_count": 292,
   "id": "207c419c-44ce-425f-a039-9b34c8bfca6e",
   "metadata": {},
   "outputs": [],
   "source": [
    "import matplotlib.pyplot as plt"
   ]
  },
  {
   "cell_type": "code",
   "execution_count": 306,
   "id": "4932f4e2-ed78-4254-8a46-f587e01a91b8",
   "metadata": {},
   "outputs": [
    {
     "name": "stderr",
     "output_type": "stream",
     "text": [
      "<>:3: SyntaxWarning: invalid escape sequence '\\s'\n",
      "<>:3: SyntaxWarning: invalid escape sequence '\\s'\n",
      "C:\\Users\\402\\AppData\\Local\\Temp\\ipykernel_732\\4018647273.py:3: SyntaxWarning: invalid escape sequence '\\s'\n",
      "  plt.title('Image plt of $\\sqrt{x^2 + y^2}$ for a grid of values')\n"
     ]
    },
    {
     "data": {
      "text/plain": [
       "Text(0.5, 1.0, 'Image plt of $\\\\sqrt{x^2 + y^2}$ for a grid of values')"
      ]
     },
     "execution_count": 306,
     "metadata": {},
     "output_type": "execute_result"
    },
    {
     "data": {
      "image/png": "[encoded data removed]",
      "text/plain": [
       "<Figure size 640x480 with 2 Axes>"
      ]
     },
     "metadata": {},
     "output_type": "display_data"
    }
   ],
   "source": [
    "plt.imshow(z, cmap=plt.cm.gray, extent = [-5, 5, -5, 5])\n",
    "plt.colorbar()\n",
    "plt.title('Image plt of $\\sqrt{x^2 + y^2}$ for a grid of values')"
   ]
  },
  {
   "cell_type": "markdown",
   "id": "3ff7fc96-c2a0-4df7-a375-446abbbcca04",
   "metadata": {},
   "source": [
    "### 4.4.1 배열 연산으로 조건부 표현하기 (164p)"
   ]
  },
  {
   "cell_type": "code",
   "execution_count": 314,
   "id": "5ac77433-83ef-4941-9071-ea29ef656bd3",
   "metadata": {},
   "outputs": [
    {
     "data": {
      "text/plain": [
       "array([2.1, 1.2, 2.3, 2.4, 1.5])"
      ]
     },
     "execution_count": 314,
     "metadata": {},
     "output_type": "execute_result"
    }
   ],
   "source": [
    "# numpy.where\n",
    "xarr = np.array([1.1, 1.2, 1.3, 1.4, 1.5])\n",
    "yarr = np.array([2.1, 2.2, 2.3, 2.4, 2.5])\n",
    "cond = np.array([True, False, True, True, False])\n",
    "\n",
    "result = np.where(cond, xarr, yarr) # cond의 True에 해당하는 xarr의 값과 False에 해당하는 yarr값 출력\n",
    "result = np.where(cond, yarr, xarr) # cond의 True에 해당하는 yarr의 값과 False에 해당하는 xarr값 출력\n",
    "result"
   ]
  },
  {
   "cell_type": "code",
   "execution_count": 315,
   "id": "54732957-132f-43a7-a8e9-c2c6b8892337",
   "metadata": {},
   "outputs": [
    {
     "data": {
      "text/plain": [
       "array([[-1.10821447,  0.13595685,  1.34707776,  0.06114402],\n",
       "       [ 0.0709146 ,  0.43365454,  0.27748366,  0.53025239],\n",
       "       [ 0.53672097,  0.61835001, -0.79501746,  0.30003095],\n",
       "       [-1.60270159,  0.26679883, -1.26162378, -0.07127081]])"
      ]
     },
     "execution_count": 315,
     "metadata": {},
     "output_type": "execute_result"
    }
   ],
   "source": [
    "# 요소가 양수이면 2, 음수이면 -2로  바꾸자\n",
    "arr = rng.standard_normal((4,4))\n",
    "arr"
   ]
  },
  {
   "cell_type": "code",
   "execution_count": 316,
   "id": "8429ef01-6f3f-47fa-b7d7-b0d354b6fe55",
   "metadata": {},
   "outputs": [
    {
     "data": {
      "text/plain": [
       "array([[False,  True,  True,  True],\n",
       "       [ True,  True,  True,  True],\n",
       "       [ True,  True, False,  True],\n",
       "       [False,  True, False, False]])"
      ]
     },
     "execution_count": 316,
     "metadata": {},
     "output_type": "execute_result"
    }
   ],
   "source": [
    "arr > 0"
   ]
  },
  {
   "cell_type": "code",
   "execution_count": 317,
   "id": "86a5ab37-4c14-4709-ac50-50cb0192c383",
   "metadata": {},
   "outputs": [
    {
     "data": {
      "text/plain": [
       "array([[-2,  2,  2,  2],\n",
       "       [ 2,  2,  2,  2],\n",
       "       [ 2,  2, -2,  2],\n",
       "       [-2,  2, -2, -2]])"
      ]
     },
     "execution_count": 317,
     "metadata": {},
     "output_type": "execute_result"
    }
   ],
   "source": [
    "np.where(arr > 0, 2, -2) # arr이 0보다 크면 2 아니면 -2"
   ]
  },
  {
   "cell_type": "code",
   "execution_count": 318,
   "id": "01abad5b-46ea-4870-82bf-26faab18046c",
   "metadata": {},
   "outputs": [
    {
     "data": {
      "text/plain": [
       "array([[-1.10821447,  2.        ,  2.        ,  2.        ],\n",
       "       [ 2.        ,  2.        ,  2.        ,  2.        ],\n",
       "       [ 2.        ,  2.        , -0.79501746,  2.        ],\n",
       "       [-1.60270159,  2.        , -1.26162378, -0.07127081]])"
      ]
     },
     "execution_count": 318,
     "metadata": {},
     "output_type": "execute_result"
    }
   ],
   "source": [
    "np.where(arr > 0, 2, arr) # arr이 0보다 크면 2 아니면 arr의 기존 값"
   ]
  },
  {
   "cell_type": "code",
   "execution_count": 319,
   "id": "3e685ebd-e231-4b12-bf85-eb6698b935a7",
   "metadata": {},
   "outputs": [
    {
     "data": {
      "text/plain": [
       "array([[-1.10821447,  0.13595685,  1.34707776,  0.06114402],\n",
       "       [ 0.0709146 ,  0.43365454,  0.27748366,  0.53025239],\n",
       "       [ 0.53672097,  0.61835001, -0.79501746,  0.30003095],\n",
       "       [-1.60270159,  0.26679883, -1.26162378, -0.07127081]])"
      ]
     },
     "execution_count": 319,
     "metadata": {},
     "output_type": "execute_result"
    }
   ],
   "source": [
    "arr"
   ]
  },
  {
   "cell_type": "code",
   "execution_count": 321,
   "id": "5a9a6349-a58c-4f0c-a79b-b7fd212cf5cc",
   "metadata": {},
   "outputs": [
    {
     "data": {
      "text/plain": [
       "np.float64(-0.016277720230918363)"
      ]
     },
     "execution_count": 321,
     "metadata": {},
     "output_type": "execute_result"
    }
   ],
   "source": [
    "np.mean(arr)"
   ]
  },
  {
   "cell_type": "code",
   "execution_count": 322,
   "id": "9c099354-2fad-4d5d-9c35-4aceb19b98fa",
   "metadata": {},
   "outputs": [
    {
     "data": {
      "text/plain": [
       "np.float64(-0.2604435236946938)"
      ]
     },
     "execution_count": 322,
     "metadata": {},
     "output_type": "execute_result"
    }
   ],
   "source": [
    "arr.sum()"
   ]
  },
  {
   "cell_type": "code",
   "execution_count": 324,
   "id": "50fc7523-19be-49c4-bc85-e36850a167cd",
   "metadata": {},
   "outputs": [
    {
     "data": {
      "text/plain": [
       "array([ 0.10899104,  0.3280763 ,  0.16502112, -0.66719934])"
      ]
     },
     "execution_count": 324,
     "metadata": {},
     "output_type": "execute_result"
    }
   ],
   "source": [
    "arr.mean(axis=1)"
   ]
  },
  {
   "cell_type": "code",
   "execution_count": 327,
   "id": "ad5d008d-7fe5-49d9-bf73-1d025c3a4f57",
   "metadata": {},
   "outputs": [
    {
     "data": {
      "text/plain": [
       "array([ 0,  1,  3,  6, 10, 15, 21, 28])"
      ]
     },
     "execution_count": 327,
     "metadata": {},
     "output_type": "execute_result"
    }
   ],
   "source": [
    "arr = np.array([0,1,2,3,4,5,6,7]) \n",
    "arr.cumsum() #0부터 7까지 누적 합계"
   ]
  },
  {
   "cell_type": "code",
   "execution_count": 331,
   "id": "ef1d9013-3c07-4063-a3fc-d7c7d18c2aa9",
   "metadata": {},
   "outputs": [
    {
     "data": {
      "text/plain": [
       "array([[0, 1, 2],\n",
       "       [3, 4, 5],\n",
       "       [6, 7, 8]])"
      ]
     },
     "execution_count": 331,
     "metadata": {},
     "output_type": "execute_result"
    }
   ],
   "source": [
    "arr = np.array([[0,1,2],[3,4,5],[6,7,8]])\n",
    "arr"
   ]
  },
  {
   "cell_type": "code",
   "execution_count": 335,
   "id": "3cf8bc89-f112-48d8-b837-12a17dc08f90",
   "metadata": {},
   "outputs": [
    {
     "data": {
      "text/plain": [
       "array([[ 0,  1,  3],\n",
       "       [ 3,  7, 12],\n",
       "       [ 6, 13, 21]])"
      ]
     },
     "execution_count": 335,
     "metadata": {},
     "output_type": "execute_result"
    }
   ],
   "source": [
    "arr.cumsum(axis=1) # axis로 행렬을 선택해서 반환 할 수 있다."
   ]
  },
  {
   "cell_type": "code",
   "execution_count": 337,
   "id": "f7386443-afc4-42af-abaa-9fd1d390b447",
   "metadata": {},
   "outputs": [
    {
     "data": {
      "text/plain": [
       "array([0, 1, 2, 3, 4, 5, 6, 7])"
      ]
     },
     "execution_count": 337,
     "metadata": {},
     "output_type": "execute_result"
    }
   ],
   "source": [
    "arr = np.arange(8)\n",
    "arr"
   ]
  },
  {
   "cell_type": "code",
   "execution_count": 338,
   "id": "478920f7-4238-44e3-8e3d-4cd148399cac",
   "metadata": {},
   "outputs": [
    {
     "data": {
      "text/plain": [
       "array([ 0,  1,  3,  6, 10, 15, 21, 28])"
      ]
     },
     "execution_count": 338,
     "metadata": {},
     "output_type": "execute_result"
    }
   ],
   "source": [
    "arr.cumsum()"
   ]
  },
  {
   "cell_type": "code",
   "execution_count": 340,
   "id": "f8df7d6b-4c2e-469d-aef2-03de4ad4fa36",
   "metadata": {},
   "outputs": [
    {
     "data": {
      "text/plain": [
       "array([[0, 1, 2, 3],\n",
       "       [4, 5, 6, 7]])"
      ]
     },
     "execution_count": 340,
     "metadata": {},
     "output_type": "execute_result"
    }
   ],
   "source": [
    "arr = arr.reshape(2,4)\n",
    "arr"
   ]
  },
  {
   "cell_type": "code",
   "execution_count": 343,
   "id": "400f6c95-c0a6-4342-84c9-b16a6af8999e",
   "metadata": {},
   "outputs": [
    {
     "data": {
      "text/plain": [
       "array([[ 0,  1,  2,  3],\n",
       "       [ 4,  6,  8, 10]])"
      ]
     },
     "execution_count": 343,
     "metadata": {},
     "output_type": "execute_result"
    }
   ],
   "source": [
    "arr.cumsum(axis=0) #행 방향 누적 합"
   ]
  },
  {
   "cell_type": "code",
   "execution_count": 345,
   "id": "0df83d8a-a148-4b4c-ae99-f5ec4f01cef5",
   "metadata": {},
   "outputs": [
    {
     "data": {
      "text/plain": [
       "array([[ 0,  1,  3,  6],\n",
       "       [ 4,  9, 15, 22]])"
      ]
     },
     "execution_count": 345,
     "metadata": {},
     "output_type": "execute_result"
    }
   ],
   "source": [
    "arr.cumsum(axis=1) #열 방향 누적 합"
   ]
  },
  {
   "cell_type": "markdown",
   "id": "fe994372-bd62-4b24-a2f5-1c63ba27fadf",
   "metadata": {},
   "source": [
    "### 4.4.3 불리언 배열을 위한 메소드 (168p)"
   ]
  },
  {
   "cell_type": "code",
   "execution_count": 348,
   "id": "ebe4d972-5366-431f-a2a6-6e91a5e8ccdf",
   "metadata": {},
   "outputs": [],
   "source": [
    "arr = rng.standard_normal(100)"
   ]
  },
  {
   "cell_type": "code",
   "execution_count": 350,
   "id": "ed90b19e-e832-44a7-a231-b9b2fdcf7701",
   "metadata": {},
   "outputs": [
    {
     "data": {
      "text/plain": [
       "np.int64(46)"
      ]
     },
     "execution_count": 350,
     "metadata": {},
     "output_type": "execute_result"
    }
   ],
   "source": [
    "(arr > 0).sum() # 비교식의 결과가 True인 경우 원소의 갯수를 반환"
   ]
  },
  {
   "cell_type": "code",
   "execution_count": 351,
   "id": "b0912a86-8f47-47c7-963b-183876061e75",
   "metadata": {},
   "outputs": [
    {
     "data": {
      "text/plain": [
       "np.int64(54)"
      ]
     },
     "execution_count": 351,
     "metadata": {},
     "output_type": "execute_result"
    }
   ],
   "source": [
    "(arr < 0).sum() "
   ]
  },
  {
   "cell_type": "code",
   "execution_count": 353,
   "id": "d28d9d61-280e-4fd0-b381-951de6c97d84",
   "metadata": {},
   "outputs": [
    {
     "data": {
      "text/plain": [
       "np.True_"
      ]
     },
     "execution_count": 353,
     "metadata": {},
     "output_type": "execute_result"
    }
   ],
   "source": [
    "bools = np.array([False, False, True, False])\n",
    "bools.any() # 최소한 하나의 값이 있으면"
   ]
  },
  {
   "cell_type": "code",
   "execution_count": 355,
   "id": "cc81d84e-f93f-4a91-9640-66f71ee5238a",
   "metadata": {},
   "outputs": [
    {
     "data": {
      "text/plain": [
       "np.False_"
      ]
     },
     "execution_count": 355,
     "metadata": {},
     "output_type": "execute_result"
    }
   ],
   "source": [
    "bools.all() # bools 안의 모든 원소가 True인지 확인"
   ]
  },
  {
   "cell_type": "markdown",
   "id": "a1f9b2bd-2fc8-4da4-8b4f-386883bb46b3",
   "metadata": {},
   "source": [
    "### 4.4.4 배열의 정렬 (169p)"
   ]
  },
  {
   "cell_type": "code",
   "execution_count": 426,
   "id": "c7361e2b-eab9-4f76-b97c-b9d2e6b3fd19",
   "metadata": {},
   "outputs": [
    {
     "data": {
      "text/plain": [
       "array([-1.13832102, -1.20842052, -1.50667492,  1.74716204, -0.30732952,\n",
       "        0.57623058])"
      ]
     },
     "execution_count": 426,
     "metadata": {},
     "output_type": "execute_result"
    }
   ],
   "source": [
    "arr = rng.standard_normal(6)\n",
    "arr"
   ]
  },
  {
   "cell_type": "code",
   "execution_count": 427,
   "id": "e99ff9e4-50c8-4f1d-95da-f0b6a169d3f2",
   "metadata": {},
   "outputs": [],
   "source": [
    "#arr.sort()"
   ]
  },
  {
   "cell_type": "code",
   "execution_count": 428,
   "id": "eb9a91bd-5c40-4ffa-817a-a71172b0fdee",
   "metadata": {},
   "outputs": [
    {
     "data": {
      "text/plain": [
       "array([-1.13832102, -1.20842052, -1.50667492,  1.74716204, -0.30732952,\n",
       "        0.57623058])"
      ]
     },
     "execution_count": 428,
     "metadata": {},
     "output_type": "execute_result"
    }
   ],
   "source": [
    "arr"
   ]
  },
  {
   "cell_type": "code",
   "execution_count": 429,
   "id": "e442f5b9-e17b-42b7-b381-d3523004b2d7",
   "metadata": {},
   "outputs": [],
   "source": [
    "arr = arr.reshape(2,3)"
   ]
  },
  {
   "cell_type": "code",
   "execution_count": 430,
   "id": "6620bbcd-e351-4d2e-824d-9e341e0c4f12",
   "metadata": {},
   "outputs": [
    {
     "data": {
      "text/plain": [
       "array([[-1.13832102, -1.20842052, -1.50667492],\n",
       "       [ 1.74716204, -0.30732952,  0.57623058]])"
      ]
     },
     "execution_count": 430,
     "metadata": {},
     "output_type": "execute_result"
    }
   ],
   "source": [
    "arr"
   ]
  },
  {
   "cell_type": "code",
   "execution_count": 433,
   "id": "9bbe4672-5a8e-4be1-8a74-022cd186523a",
   "metadata": {},
   "outputs": [],
   "source": [
    "arr.sort(axis=0)"
   ]
  },
  {
   "cell_type": "code",
   "execution_count": 434,
   "id": "ac8f5783-fb9a-4966-8165-55b8091bc0dd",
   "metadata": {},
   "outputs": [
    {
     "data": {
      "text/plain": [
       "array([[-1.50667492, -1.20842052, -1.13832102],\n",
       "       [-0.30732952,  0.57623058,  1.74716204]])"
      ]
     },
     "execution_count": 434,
     "metadata": {},
     "output_type": "execute_result"
    }
   ],
   "source": [
    "arr"
   ]
  },
  {
   "cell_type": "code",
   "execution_count": 431,
   "id": "d58134b2-98a9-4046-b629-7851dc50ea8c",
   "metadata": {},
   "outputs": [],
   "source": [
    "arr.sort(axis=1)"
   ]
  },
  {
   "cell_type": "code",
   "execution_count": 432,
   "id": "28760e26-91f5-4bfc-a72a-76a40e3dd9fc",
   "metadata": {},
   "outputs": [
    {
     "data": {
      "text/plain": [
       "array([[-1.50667492, -1.20842052, -1.13832102],\n",
       "       [-0.30732952,  0.57623058,  1.74716204]])"
      ]
     },
     "execution_count": 432,
     "metadata": {},
     "output_type": "execute_result"
    }
   ],
   "source": [
    "arr"
   ]
  },
  {
   "cell_type": "markdown",
   "id": "9dc565a4-f6da-49c4-90d6-98d8d9cf39e0",
   "metadata": {},
   "source": [
    "### 4.4.5 집합 관련 함수 (171p)\n",
    "- 중복된 원소를 제거하고 정렬"
   ]
  },
  {
   "cell_type": "code",
   "execution_count": 435,
   "id": "2d9761c8-0e75-46e4-b889-66842a1a71dd",
   "metadata": {},
   "outputs": [
    {
     "data": {
      "text/plain": [
       "array(['bob', 'joe', 'will', 'bob', 'will', 'joe', 'joe'], dtype='<U4')"
      ]
     },
     "execution_count": 435,
     "metadata": {},
     "output_type": "execute_result"
    }
   ],
   "source": [
    "names"
   ]
  },
  {
   "cell_type": "code",
   "execution_count": 437,
   "id": "76f00620-1827-40cd-9ca6-4d89f17d2ec1",
   "metadata": {},
   "outputs": [
    {
     "data": {
      "text/plain": [
       "array(['bob', 'joe', 'will'], dtype='<U4')"
      ]
     },
     "execution_count": 437,
     "metadata": {},
     "output_type": "execute_result"
    }
   ],
   "source": [
    "np.unique(names) # 중복되는 값이 제거 됨"
   ]
  },
  {
   "cell_type": "code",
   "execution_count": 442,
   "id": "bd4434da-6498-4830-96a3-6f97f695879d",
   "metadata": {},
   "outputs": [
    {
     "data": {
      "text/plain": [
       "array([3, 3, 3, 2, 2, 1, 1, 4, 4])"
      ]
     },
     "execution_count": 442,
     "metadata": {},
     "output_type": "execute_result"
    }
   ],
   "source": [
    "ints = np.array([3, 3, 3, 2, 2, 1, 1, 4, 4])\n",
    "ints"
   ]
  },
  {
   "cell_type": "code",
   "execution_count": 486,
   "id": "b3a55fde-63ef-45be-8192-80dc59090544",
   "metadata": {},
   "outputs": [
    {
     "data": {
      "text/plain": [
       "array([1, 2, 3, 4])"
      ]
     },
     "execution_count": 486,
     "metadata": {},
     "output_type": "execute_result"
    }
   ],
   "source": [
    "np.unique(ints)"
   ]
  },
  {
   "cell_type": "code",
   "execution_count": 495,
   "id": "6defbbdb-7add-401e-ba9e-9cedd6b268f9",
   "metadata": {},
   "outputs": [
    {
     "data": {
      "text/plain": [
       "array([ True, False, False,  True,  True, False,  True])"
      ]
     },
     "execution_count": 495,
     "metadata": {},
     "output_type": "execute_result"
    }
   ],
   "source": [
    "# in1d -> isin으로 변경 됨\n",
    "values = np.array([6, 0, 0, 3, 2, 5, 6])\n",
    "#np.in1d(values, [2, 3, 6])\n",
    "np.isin(values, [2, 3, 6]) # values 안에 2,3,6이 포함되어있는지 확인 하여 True,False로 반환"
   ]
  },
  {
   "cell_type": "markdown",
   "id": "0b0b8e19-d4ae-451e-844a-9ab021ad0258",
   "metadata": {},
   "source": [
    "### 4.5 배열 데이터의 파일 입출력(172p)"
   ]
  },
  {
   "cell_type": "code",
   "execution_count": 497,
   "id": "bf715dc9-4bc4-4530-b93a-bef84e8f59a4",
   "metadata": {},
   "outputs": [
    {
     "data": {
      "text/plain": [
       "array([0, 1, 2, 3, 4, 5, 6, 7, 8, 9])"
      ]
     },
     "execution_count": 497,
     "metadata": {},
     "output_type": "execute_result"
    }
   ],
   "source": [
    "arr = np.arange(10)\n",
    "arr"
   ]
  },
  {
   "cell_type": "code",
   "execution_count": 498,
   "id": "17773bd9-d836-4211-b13a-86c1045df3fc",
   "metadata": {},
   "outputs": [],
   "source": [
    "np.save('some_array', arr) # npy 파일형식으로 저장"
   ]
  },
  {
   "cell_type": "code",
   "execution_count": 500,
   "id": "5c0e00ab-4c8d-416c-a874-db23fd307928",
   "metadata": {},
   "outputs": [
    {
     "data": {
      "text/plain": [
       "array([0, 1, 2, 3, 4, 5, 6, 7, 8, 9])"
      ]
     },
     "execution_count": 500,
     "metadata": {},
     "output_type": "execute_result"
    }
   ],
   "source": [
    "np.load('some_array.npy') # 저장한 파일 불러오기"
   ]
  },
  {
   "cell_type": "code",
   "execution_count": 504,
   "id": "17fafbb1-48e2-4ab6-a6a8-2f5a786534d0",
   "metadata": {},
   "outputs": [],
   "source": [
    "np.savez('array_archive.npz', a=arr, b=arr) # 딕셔너리 형태로 저장이 됨"
   ]
  },
  {
   "cell_type": "code",
   "execution_count": 505,
   "id": "80e0f272-56e2-4d81-8b74-34f0f5fc2cb4",
   "metadata": {},
   "outputs": [],
   "source": [
    "arch = np.load('array_archive.npz')"
   ]
  },
  {
   "cell_type": "code",
   "execution_count": 506,
   "id": "e27ff2e0-b716-4a1a-9768-21abcc147a04",
   "metadata": {},
   "outputs": [
    {
     "data": {
      "text/plain": [
       "array([0, 1, 2, 3, 4, 5, 6, 7, 8, 9])"
      ]
     },
     "execution_count": 506,
     "metadata": {},
     "output_type": "execute_result"
    }
   ],
   "source": [
    "arch['b']"
   ]
  },
  {
   "cell_type": "code",
   "execution_count": 508,
   "id": "334e6575-696a-41d2-9d5a-711517bd65bc",
   "metadata": {},
   "outputs": [],
   "source": [
    "np.savez_compressed('array_compressed.npz', a=arr, b=arr)"
   ]
  },
  {
   "cell_type": "code",
   "execution_count": 509,
   "id": "63522649-da76-4ee8-8df3-8aba87287a54",
   "metadata": {},
   "outputs": [
    {
     "data": {
      "text/plain": [
       "array([0, 1, 2, 3, 4, 5, 6, 7, 8, 9])"
      ]
     },
     "execution_count": 509,
     "metadata": {},
     "output_type": "execute_result"
    }
   ],
   "source": [
    "arch = np.load('array_compressed.npz')\n",
    "arch['a']"
   ]
  },
  {
   "cell_type": "markdown",
   "id": "033efaa3-fe3c-4193-815f-3bcb4fd70522",
   "metadata": {},
   "source": [
    "### 4.6 선형대수 (173p)"
   ]
  },
  {
   "cell_type": "code",
   "execution_count": 515,
   "id": "5897c83d-3fb3-4743-985b-80ce5ca76fe6",
   "metadata": {},
   "outputs": [
    {
     "data": {
      "text/plain": [
       "array([[1, 2, 3],\n",
       "       [4, 5, 6]])"
      ]
     },
     "execution_count": 515,
     "metadata": {},
     "output_type": "execute_result"
    }
   ],
   "source": [
    "x = np.arange(1, 7).reshape(2,3)\n",
    "x"
   ]
  },
  {
   "cell_type": "code",
   "execution_count": 517,
   "id": "0df0443a-c686-4c15-b01b-e8ffa3aee962",
   "metadata": {},
   "outputs": [
    {
     "data": {
      "text/plain": [
       "array([[ 6., 23.],\n",
       "       [-1.,  7.],\n",
       "       [ 8.,  9.]])"
      ]
     },
     "execution_count": 517,
     "metadata": {},
     "output_type": "execute_result"
    }
   ],
   "source": [
    "y = np.array([[6., 23.], [-1, 7], [8, 9]])\n",
    "y"
   ]
  },
  {
   "cell_type": "code",
   "execution_count": 518,
   "id": "4abf01d2-7614-41d4-9ed8-17e323228cb6",
   "metadata": {},
   "outputs": [
    {
     "data": {
      "text/plain": [
       "array([[ 28.,  64.],\n",
       "       [ 67., 181.]])"
      ]
     },
     "execution_count": 518,
     "metadata": {},
     "output_type": "execute_result"
    }
   ],
   "source": [
    "x.dot(y)\n",
    "# np.dot(x, y)"
   ]
  },
  {
   "cell_type": "code",
   "execution_count": 523,
   "id": "16fae660-855d-4c5a-ae05-ef2453fef37e",
   "metadata": {},
   "outputs": [
    {
     "name": "stdout",
     "output_type": "stream",
     "text": [
      "[1. 1. 1.]\n",
      "[ 6. 15.]\n"
     ]
    }
   ],
   "source": [
    "print(np.ones(3)) # 1,1,1 출력\n",
    "print(x @ np.ones(3)) # 차원축소"
   ]
  },
  {
   "cell_type": "code",
   "execution_count": 539,
   "id": "06a083dc-dc05-4b26-a840-a49d658208f4",
   "metadata": {},
   "outputs": [],
   "source": [
    "from numpy.linalg import inv, qr"
   ]
  },
  {
   "cell_type": "code",
   "execution_count": 540,
   "id": "6cab0ae0-a9e6-4815-8598-1cc12ff46e7a",
   "metadata": {},
   "outputs": [
    {
     "data": {
      "text/plain": [
       "array([[-2.5546957 ,  0.77473021, -2.0164499 , -0.19928902, -0.25335886],\n",
       "       [ 0.59043379,  1.17055592, -0.64886059, -1.26743924,  0.41566594],\n",
       "       [-2.38034518,  1.29755435,  0.45071752,  0.47023043,  2.48084503],\n",
       "       [-1.77322236,  0.95468164,  1.23625269, -0.90001234, -0.26831419],\n",
       "       [-0.4700505 ,  1.16510961,  0.32450153,  0.70440487,  0.99536297]])"
      ]
     },
     "execution_count": 540,
     "metadata": {},
     "output_type": "execute_result"
    }
   ],
   "source": [
    "x = rng.standard_normal((5,5))\n",
    "x"
   ]
  },
  {
   "cell_type": "code",
   "execution_count": 541,
   "id": "8618ec87-1647-4f68-b96f-06aa110ac2b5",
   "metadata": {},
   "outputs": [
    {
     "data": {
      "text/plain": [
       "array([[15.90639039, -6.6172146 ,  1.35076038, -0.09371075, -5.00467966],\n",
       "       [-6.6172146 ,  5.92295278, -0.17859419, -1.06637055,  4.41285907],\n",
       "       [ 1.35076038, -0.17859419,  6.3238585 ,  0.55212658,  1.35062919],\n",
       "       [-0.09371075, -1.06637055,  0.55212658,  3.17344343,  1.63285373],\n",
       "       [-5.00467966,  4.41285907,  1.35062919,  1.63285373,  7.45430091]])"
      ]
     },
     "execution_count": 541,
     "metadata": {},
     "output_type": "execute_result"
    }
   ],
   "source": [
    "mat = x.T @ x #내적 계산\n",
    "mat"
   ]
  },
  {
   "cell_type": "code",
   "execution_count": 542,
   "id": "86547943-82ee-4984-9bbf-6196c3713453",
   "metadata": {},
   "outputs": [
    {
     "data": {
      "text/plain": [
       "array([[ 0.13540474,  0.20611391, -0.02144292,  0.10255601, -0.04968834],\n",
       "       [ 0.20611391,  0.88883057,  0.04267709,  0.56446934, -0.51917501],\n",
       "       [-0.02144292,  0.04267709,  0.17839046,  0.02221191, -0.0768484 ],\n",
       "       [ 0.10255601,  0.56446934,  0.02221191,  0.72415598, -0.42795489],\n",
       "       [-0.04968834, -0.51917501, -0.0768484 , -0.42795489,  0.51580335]])"
      ]
     },
     "execution_count": 542,
     "metadata": {},
     "output_type": "execute_result"
    }
   ],
   "source": [
    "inv(mat) #역행렬 구하기"
   ]
  },
  {
   "cell_type": "code",
   "execution_count": 543,
   "id": "e01103aa-73a9-4208-a933-adadeb9afbc1",
   "metadata": {},
   "outputs": [
    {
     "data": {
      "text/plain": [
       "array([[ 1.00000000e+00, -5.07296295e-16,  1.83276380e-19,\n",
       "        -7.76846443e-17,  6.52157641e-17],\n",
       "       [-8.17827071e-17,  1.00000000e+00, -5.72998305e-17,\n",
       "        -8.53935722e-16,  4.61133809e-17],\n",
       "       [ 4.25399925e-17, -3.05630809e-17,  1.00000000e+00,\n",
       "         3.59722142e-17,  7.25083458e-17],\n",
       "       [-3.81553177e-18,  1.41953456e-16,  2.04061323e-17,\n",
       "         1.00000000e+00,  2.06962326e-16],\n",
       "       [-1.08233811e-16, -1.35561248e-15, -1.26299550e-18,\n",
       "        -5.73446296e-16,  1.00000000e+00]])"
      ]
     },
     "execution_count": 543,
     "metadata": {},
     "output_type": "execute_result"
    }
   ],
   "source": [
    "mat @ inv(mat)"
   ]
  },
  {
   "cell_type": "markdown",
   "id": "37bad3c7-f5b3-45e6-9151-b55e7df3be3c",
   "metadata": {},
   "source": [
    "### 4.7 예: 무작위 산책"
   ]
  },
  {
   "cell_type": "code",
   "execution_count": 629,
   "id": "5a2bc1f2-75bf-4378-a876-26ad2ad0b3bd",
   "metadata": {},
   "outputs": [
    {
     "data": {
      "text/plain": [
       "[<matplotlib.lines.Line2D at 0x2034139efc0>]"
      ]
     },
     "execution_count": 629,
     "metadata": {},
     "output_type": "execute_result"
    },
    {
     "data": {
      "image/png": "[encoded data removed]",
      "text/plain": [
       "<Figure size 640x480 with 1 Axes>"
      ]
     },
     "metadata": {},
     "output_type": "display_data"
    }
   ],
   "source": [
    "# 랜덤 워크 시뮬레이션\n",
    "import random\n",
    "position = 0\n",
    "walk = [position]\n",
    "nsteps = 1000 \n",
    "for _ in range(nsteps): # 1000번 반복\n",
    "    step = 1 if random.randint(0, 1) else -1 #0이면 -1, 1이면 1을 step에 넣어준다\n",
    "    position += step # 위치 갱신\n",
    "    walk.append(position) #경로 저장\n",
    "plt.figure() # 새로운 그림 생성\n",
    "plt.plot(walk[:100]) # 초기 100스텝만 플로팅"
   ]
  },
  {
   "cell_type": "code",
   "execution_count": 635,
   "id": "917e6e9d-85b8-4b93-862a-5ee7e9bfab21",
   "metadata": {},
   "outputs": [
    {
     "name": "stdout",
     "output_type": "stream",
     "text": [
      "[-1  0 -1  0  1  0 -1 -2 -3 -2 -3 -2 -3 -4 -3 -2 -1 -2 -3 -4 -5 -4 -5 -6\n",
      " -7 -8 -7 -6 -5 -4 -3 -4 -3 -4 -3 -2 -1 -2 -3 -2 -3 -2 -1  0 -1  0  1  2\n",
      "  3  4  3  2  3  4  5  6  7  8  9  8  7  6  5  4  5  4  3  2  1  0 -1 -2\n",
      " -3 -4 -3 -4 -5 -4 -3 -2 -3 -2 -3 -4 -5 -4 -5 -6 -5 -4 -3 -2 -3 -2 -3 -2\n",
      " -1  0  1  0  1  2  1  2  1  0  1  2  3  4  3  4  3  4  3  4  3  4  5  6\n",
      "  5  6  7  8  7  8  7  8  7  8  7  8  7  8  7  8  7  6  7  8  9  8  7  8\n",
      "  9  8  9  8  7  8  7  6  7  8  9 10 11 10  9  8  9  8  9 10  9 10  9  8\n",
      "  7  8  7  6  5  6  7  6  5  6  5  6  7  8  9 10  9  8  7  6  5  6  5  6\n",
      "  7  8  7  6  7  8  9 10 11 12 13 14 13 12 13 14 15 14 13 14 15 14 15 16\n",
      " 17 18 19 20 21 22 23 24 25 24 23 22 23 24 23 22 21 22 21 20 21 20 19 20\n",
      " 19 20 19 20 19 20 19 18 19 20 19 20 21 20 21 22 23 24 23 24 23 22 23 22\n",
      " 21 20 21 22 23 22 23 24 25 24 25 24 25 24 25 24 23 24 23 24 23 22 23 22\n",
      " 23 24 23 24 23 22 21 22 21 22 21 20 19 18 19 18 17 18 17 18 19 18 17 18\n",
      " 17 18 19 20 21 22 21 20 19 18 19 18 19 18 19 18 19 18 19 20 21 20 19 18\n",
      " 17 16 15 14 15 14 13 12 11 10 11 10  9 10 11 12 11 12 11 10 11 12 11 10\n",
      "  9 10 11 12 13 14 13 12 13 14 13 14 15 14 13 12 13 14 15 16 15 14 13 14\n",
      " 15 14 13 12 13 14 15 16 15 16 15 16 17 16 15 16 17 16 15 16 17 18 17 18\n",
      " 17 16 15 16 17 18 17 18 17 16 17 16 17 18 17 18 17 18 17 18 17 18 17 18\n",
      " 17 18 17 16 15 14 15 16 17 18 17 18 17 16 17 16 15 14 13 12 13 12 11 10\n",
      " 11 12 11 12 13 14 13 12 13 12 13 14 15 14 15 14 15 16 17 18 17 16 15 14\n",
      " 15 14 13 12 11 10 11 10  9  8  7  8  9 10 11 10 11 12 11 10  9 10 11 12\n",
      " 13 14 15 14 15 16 15 16 17 18 17 16 17 16 17 16 15 16 15 14 13 14 15 14\n",
      " 15 14 15 16 15 14 15 16 15 16 15 14 13 14 15 14 13 14 13 12 13 14 13 14\n",
      " 13 14 15 16 17 18 19 20 21 22 23 22 23 22 21 20 19 18 17 16 17 16 15 16\n",
      " 17 18 17 18 19 18 17 18 19 20 21 20 21 20 21 20 21 22 21 22 23 24 23 22\n",
      " 23 24 23 22 21 22 23 22 21 22 23 24 23 24 25 24 25 24 25 26 27 28 27 26\n",
      " 27 26 25 24 23 22 21 20 19 18 19 20 21 22 23 24 23 24 23 24 23 24 23 24\n",
      " 23 24 23 24 25 24 23 24 25 24 23 24 23 22 23 24 23 22 23 24 25 26 25 26\n",
      " 25 26 27 26 27 28 27 28 27 26 25 26 25 24 23 22 21 22 23 24 23 24 25 24\n",
      " 25 24 25 26 27 26 27 28 29 30 29 30 31 32 33 32 33 34 33 32 33 34 33 32\n",
      " 33 34 35 34 35 34 35 36 37 38 39 40 41 40 41 42 41 40 41 40 39 40 41 40\n",
      " 39 40 39 40 39 38 39 38 37 36 37 38 37 38 37 38 39 40 39 40 41 42 43 42\n",
      " 43 44 43 44 43 42 43 42 41 40 39 40 39 38 37 38 37 38 39 38 39 38 39 40\n",
      " 41 42 41 40 39 40 41 42 41 40 41 40 39 40 39 38 37 38 37 36 37 38 37 36\n",
      " 37 36 37 36 35 36 35 34 33 34 33 34 35 36 37 36 35 36 37 38 39 40 41 42\n",
      " 43 42 41 42 43 44 43 44 45 46 45 44 43 42 41 40 41 40 41 42 41 40 39 40\n",
      " 41 40 41 42 41 40 39 38 39 40 41 42 43 44 43 44 43 42 41 42 43 42 43 44\n",
      " 43 44 45 44 43 42 43 42 43 44 45 44 45 44 43 44 45 46 45 46 45 44 43 44\n",
      " 45 44 43 42 43 44 43 42 43 42 41 40 41 42 41 42 43 42 41 42 41 42 41 42\n",
      " 43 44 45 44 43 42 41 40 41 42 43 42 43 44 43 42 41 40 39 40 41 42 43 44\n",
      " 43 44 43 42 41 40 41 42 43 42 43 44 45 46 47 46 45 44 45 46 45 44 45 46\n",
      " 47 48 47 48 49 48 49 50 49 48 47 48 47 48 47 46]\n",
      "-8\n",
      "50\n",
      "155\n"
     ]
    }
   ],
   "source": [
    "nsteps= 1000\n",
    "rng = np.random.default_rng(seed=12345) #난수 생성\n",
    "draws = rng.integers(0, 2, size=nsteps) # 0 또는 1을 추출\n",
    "steps = np.where(draws == 0, 1, -1) #draws값이 참이면 1 거짓이면 -1 (0=1)\n",
    "walk = steps.cumsum() # 누적합으로 계산\n",
    "print(walk)\n",
    "print(walk.min())\n",
    "print(walk.max())\n",
    "print((np.abs(walk) >= 10).argmax()) # 처음으로 위치가 += 10에 도달하는 인덱스 확인"
   ]
  },
  {
   "cell_type": "code",
   "execution_count": null,
   "id": "60993c2e-dccd-4446-bf15-54977a4477cd",
   "metadata": {},
   "outputs": [],
   "source": []
  },
  {
   "cell_type": "code",
   "execution_count": null,
   "id": "2b31cacc-45ea-4e83-8f20-948dc6324414",
   "metadata": {},
   "outputs": [],
   "source": []
  },
  {
   "cell_type": "code",
   "execution_count": null,
   "id": "a6529c8a-a0f4-4f0a-b209-87cda0a4215f",
   "metadata": {},
   "outputs": [],
   "source": []
  },
  {
   "cell_type": "code",
   "execution_count": null,
   "id": "8861d0d2-ae7e-44a3-b012-8bc77e7581cf",
   "metadata": {},
   "outputs": [],
   "source": []
  },
  {
   "cell_type": "code",
   "execution_count": null,
   "id": "8239fe9e-6e8d-4f18-a586-13f4c2bac8c1",
   "metadata": {},
   "outputs": [],
   "source": []
  }
 ],
 "metadata": {
  "kernelspec": {
   "display_name": "Python 3 (ipykernel)",
   "language": "python",
   "name": "python3"
  },
  "language_info": {
   "codemirror_mode": {
    "name": "ipython",
    "version": 3
   },
   "file_extension": ".py",
   "mimetype": "text/x-python",
   "name": "python",
   "nbconvert_exporter": "python",
   "pygments_lexer": "ipython3",
   "version": "3.12.8"
  }
 },
 "nbformat": 4,
 "nbformat_minor": 5
}
